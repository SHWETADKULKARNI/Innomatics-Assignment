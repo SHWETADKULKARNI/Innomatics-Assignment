{
 "cells": [
  {
   "cell_type": "code",
   "execution_count": null,
   "id": "208d3b60",
   "metadata": {},
   "outputs": [],
   "source": [
    "# Import libraries\n",
    "import numpy as np\n",
    "import pandas as pd\n",
    "import matplotlib.pyplot as plt\n",
    "import seaborn as sns"
   ]
  },
  {
   "cell_type": "code",
   "execution_count": null,
   "id": "7032dc81",
   "metadata": {},
   "outputs": [],
   "source": [
    "#Loading data\n",
    "data=pd.read_csv(\"scores_data.csv\")"
   ]
  },
  {
   "cell_type": "code",
   "execution_count": null,
   "id": "6fbb2e82",
   "metadata": {
    "scrolled": true
   },
   "outputs": [],
   "source": [
    "#Firt five rows\n",
    "data.head()"
   ]
  },
  {
   "cell_type": "markdown",
   "id": "e2af3baf",
   "metadata": {},
   "source": [
    "# Domain Analysis\n",
    "* Batch - Represents the Batch Name\n",
    "\n",
    "* User_ID - Represents the unique student id\n",
    "\n",
    "* Score - Represents the Score out of 7"
   ]
  },
  {
   "cell_type": "code",
   "execution_count": null,
   "id": "bf6bd677",
   "metadata": {},
   "outputs": [],
   "source": [
    "#Last five rows\n",
    "data.tail()"
   ]
  },
  {
   "cell_type": "code",
   "execution_count": null,
   "id": "f6766f43",
   "metadata": {},
   "outputs": [],
   "source": [
    "# Clean the column names ?\n",
    "\n",
    "data.columns = data.columns.str.replace(' ', '')"
   ]
  },
  {
   "cell_type": "code",
   "execution_count": null,
   "id": "4e44577d",
   "metadata": {},
   "outputs": [],
   "source": [
    "#Total columns in data\n",
    "data.columns"
   ]
  },
  {
   "cell_type": "code",
   "execution_count": null,
   "id": "1f5671f2",
   "metadata": {},
   "outputs": [],
   "source": [
    "#shape of data\n",
    "data.shape"
   ]
  },
  {
   "cell_type": "code",
   "execution_count": null,
   "id": "aea72910",
   "metadata": {},
   "outputs": [],
   "source": [
    "#Information of data\n",
    "data.info()"
   ]
  },
  {
   "cell_type": "code",
   "execution_count": null,
   "id": "1975efbd",
   "metadata": {},
   "outputs": [],
   "source": [
    "data['Batch'] = data['Batch'].str.replace('_', '')\n",
    "\n",
    "data['User_ID'] = data['User_ID'].str.replace('_', '')\n",
    "\n",
    "data['Score'] = data['Score'].str.replace('/', '')\n",
    "\n",
    "data['Score'] = data['Score'].str.replace(' ', '')"
   ]
  },
  {
   "cell_type": "code",
   "execution_count": null,
   "id": "8a608af6",
   "metadata": {},
   "outputs": [],
   "source": [
    "data.head()"
   ]
  },
  {
   "cell_type": "code",
   "execution_count": null,
   "id": "15c4d082",
   "metadata": {},
   "outputs": [],
   "source": [
    "data['Score']=data['Score'].astype('float')"
   ]
  },
  {
   "cell_type": "code",
   "execution_count": null,
   "id": "1397bf46",
   "metadata": {},
   "outputs": [],
   "source": [
    "data.info()"
   ]
  },
  {
   "cell_type": "code",
   "execution_count": null,
   "id": "d7279286",
   "metadata": {},
   "outputs": [],
   "source": [
    "# Check missing values\n",
    "data.isnull().sum()"
   ]
  },
  {
   "cell_type": "markdown",
   "id": "9cefdeeb",
   "metadata": {},
   "source": [
    "# Univariate Analysis"
   ]
  },
  {
   "cell_type": "code",
   "execution_count": null,
   "id": "38873c9b",
   "metadata": {},
   "outputs": [],
   "source": [
    "#Batch\n",
    "sns.histplot(x='Batch',data=data)"
   ]
  },
  {
   "cell_type": "markdown",
   "id": "4726fc2b",
   "metadata": {},
   "source": [
    "* AIELITE7 have large numbers in count."
   ]
  },
  {
   "cell_type": "code",
   "execution_count": null,
   "id": "6d8ef617",
   "metadata": {},
   "outputs": [],
   "source": [
    "#User_ID\n",
    "sns.histplot(x='User_ID',data=data)"
   ]
  },
  {
   "cell_type": "code",
   "execution_count": null,
   "id": "ef334b0c",
   "metadata": {},
   "outputs": [],
   "source": [
    "#Score\n",
    "sns.countplot(x='Score',data=data)"
   ]
  },
  {
   "cell_type": "markdown",
   "id": "ec2861b4",
   "metadata": {},
   "source": [
    "* score range in between 47 highest in number in count.\n",
    "* score range in between 57 second highest in count.\n",
    "* score range in between 7 very low in count."
   ]
  },
  {
   "cell_type": "markdown",
   "id": "08c5f349",
   "metadata": {},
   "source": [
    "# Bivariant Analysis"
   ]
  },
  {
   "cell_type": "code",
   "execution_count": null,
   "id": "88f12d2f",
   "metadata": {},
   "outputs": [],
   "source": [
    "sns.barplot(x='Batch',y='Score',data=data)"
   ]
  },
  {
   "cell_type": "markdown",
   "id": "44983512",
   "metadata": {},
   "source": [
    "* From batch AIELITE7 score almost 60.\n",
    "* From batch AIELITE6 score more than 47.\n",
    "* From batch AIELITE4 score almost 45 & very less as compared to others."
   ]
  }
 ],
 "metadata": {
  "kernelspec": {
   "display_name": "Python 3 (ipykernel)",
   "language": "python",
   "name": "python3"
  },
  "language_info": {
   "codemirror_mode": {
    "name": "ipython",
    "version": 3
   },
   "file_extension": ".py",
   "mimetype": "text/x-python",
   "name": "python",
   "nbconvert_exporter": "python",
   "pygments_lexer": "ipython3",
   "version": "3.9.13"
  }
 },
 "nbformat": 4,
 "nbformat_minor": 5
}
