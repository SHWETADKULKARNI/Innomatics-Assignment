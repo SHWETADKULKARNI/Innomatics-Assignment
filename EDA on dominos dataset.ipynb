{
 "cells": [
  {
   "cell_type": "code",
   "execution_count": 1,
   "id": "a424a1ee",
   "metadata": {},
   "outputs": [],
   "source": [
    "# Import library\n",
    "import numpy as np\n",
    "import pandas as pd\n",
    "import matplotlib.pyplot as plt\n",
    "import seaborn as sns"
   ]
  },
  {
   "cell_type": "code",
   "execution_count": 2,
   "id": "ac3dd126",
   "metadata": {},
   "outputs": [],
   "source": [
    "# Loading data\n",
    "data=pd.read_csv(\"diminos_data.csv\")"
   ]
  },
  {
   "cell_type": "code",
   "execution_count": 3,
   "id": "b6692d00",
   "metadata": {},
   "outputs": [
    {
     "data": {
      "text/html": [
       "<div>\n",
       "<style scoped>\n",
       "    .dataframe tbody tr th:only-of-type {\n",
       "        vertical-align: middle;\n",
       "    }\n",
       "\n",
       "    .dataframe tbody tr th {\n",
       "        vertical-align: top;\n",
       "    }\n",
       "\n",
       "    .dataframe thead th {\n",
       "        text-align: right;\n",
       "    }\n",
       "</style>\n",
       "<table border=\"1\" class=\"dataframe\">\n",
       "  <thead>\n",
       "    <tr style=\"text-align: right;\">\n",
       "      <th></th>\n",
       "      <th>order_id</th>\n",
       "      <th>order_placed_at</th>\n",
       "      <th>order_delivered_at</th>\n",
       "    </tr>\n",
       "  </thead>\n",
       "  <tbody>\n",
       "    <tr>\n",
       "      <th>0</th>\n",
       "      <td>1523111</td>\n",
       "      <td>2023-03-01 00:00:59</td>\n",
       "      <td>2023-03-01 00:18:07.443132</td>\n",
       "    </tr>\n",
       "    <tr>\n",
       "      <th>1</th>\n",
       "      <td>1523112</td>\n",
       "      <td>2023-03-01 00:03:59</td>\n",
       "      <td>2023-03-01 00:19:34.925241</td>\n",
       "    </tr>\n",
       "    <tr>\n",
       "      <th>2</th>\n",
       "      <td>1523113</td>\n",
       "      <td>2023-03-01 00:07:22</td>\n",
       "      <td>2023-03-01 00:22:28.291385</td>\n",
       "    </tr>\n",
       "    <tr>\n",
       "      <th>3</th>\n",
       "      <td>1523114</td>\n",
       "      <td>2023-03-01 00:07:47</td>\n",
       "      <td>2023-03-01 00:46:19.019399</td>\n",
       "    </tr>\n",
       "    <tr>\n",
       "      <th>4</th>\n",
       "      <td>1523115</td>\n",
       "      <td>2023-03-01 00:09:03</td>\n",
       "      <td>2023-03-01 00:25:13.619056</td>\n",
       "    </tr>\n",
       "  </tbody>\n",
       "</table>\n",
       "</div>"
      ],
      "text/plain": [
       "   order_id      order_placed_at          order_delivered_at\n",
       "0   1523111  2023-03-01 00:00:59  2023-03-01 00:18:07.443132\n",
       "1   1523112  2023-03-01 00:03:59  2023-03-01 00:19:34.925241\n",
       "2   1523113  2023-03-01 00:07:22  2023-03-01 00:22:28.291385\n",
       "3   1523114  2023-03-01 00:07:47  2023-03-01 00:46:19.019399\n",
       "4   1523115  2023-03-01 00:09:03  2023-03-01 00:25:13.619056"
      ]
     },
     "execution_count": 3,
     "metadata": {},
     "output_type": "execute_result"
    }
   ],
   "source": [
    "# First five rows\n",
    "data.head()"
   ]
  },
  {
   "cell_type": "code",
   "execution_count": 4,
   "id": "cf0ab411",
   "metadata": {},
   "outputs": [
    {
     "data": {
      "text/html": [
       "<div>\n",
       "<style scoped>\n",
       "    .dataframe tbody tr th:only-of-type {\n",
       "        vertical-align: middle;\n",
       "    }\n",
       "\n",
       "    .dataframe tbody tr th {\n",
       "        vertical-align: top;\n",
       "    }\n",
       "\n",
       "    .dataframe thead th {\n",
       "        text-align: right;\n",
       "    }\n",
       "</style>\n",
       "<table border=\"1\" class=\"dataframe\">\n",
       "  <thead>\n",
       "    <tr style=\"text-align: right;\">\n",
       "      <th></th>\n",
       "      <th>order_id</th>\n",
       "      <th>order_placed_at</th>\n",
       "      <th>order_delivered_at</th>\n",
       "    </tr>\n",
       "  </thead>\n",
       "  <tbody>\n",
       "    <tr>\n",
       "      <th>14995</th>\n",
       "      <td>1538106</td>\n",
       "      <td>2023-03-27 23:37:05</td>\n",
       "      <td>2023-03-27 23:52:37.409378</td>\n",
       "    </tr>\n",
       "    <tr>\n",
       "      <th>14996</th>\n",
       "      <td>1538107</td>\n",
       "      <td>2023-03-27 23:47:38</td>\n",
       "      <td>2023-03-28 00:04:22.672912</td>\n",
       "    </tr>\n",
       "    <tr>\n",
       "      <th>14997</th>\n",
       "      <td>1538108</td>\n",
       "      <td>2023-03-27 23:50:16</td>\n",
       "      <td>2023-03-28 00:05:40.676238</td>\n",
       "    </tr>\n",
       "    <tr>\n",
       "      <th>14998</th>\n",
       "      <td>1538109</td>\n",
       "      <td>2023-03-27 23:52:44</td>\n",
       "      <td>2023-03-28 00:08:41.810358</td>\n",
       "    </tr>\n",
       "    <tr>\n",
       "      <th>14999</th>\n",
       "      <td>1538110</td>\n",
       "      <td>2023-03-27 23:58:20</td>\n",
       "      <td>2023-03-28 00:13:42.499311</td>\n",
       "    </tr>\n",
       "  </tbody>\n",
       "</table>\n",
       "</div>"
      ],
      "text/plain": [
       "       order_id      order_placed_at          order_delivered_at\n",
       "14995   1538106  2023-03-27 23:37:05  2023-03-27 23:52:37.409378\n",
       "14996   1538107  2023-03-27 23:47:38  2023-03-28 00:04:22.672912\n",
       "14997   1538108  2023-03-27 23:50:16  2023-03-28 00:05:40.676238\n",
       "14998   1538109  2023-03-27 23:52:44  2023-03-28 00:08:41.810358\n",
       "14999   1538110  2023-03-27 23:58:20  2023-03-28 00:13:42.499311"
      ]
     },
     "execution_count": 4,
     "metadata": {},
     "output_type": "execute_result"
    }
   ],
   "source": [
    "# Last five rows\n",
    "data.tail()"
   ]
  },
  {
   "cell_type": "code",
   "execution_count": 6,
   "id": "474f652c",
   "metadata": {},
   "outputs": [
    {
     "data": {
      "text/plain": [
       "(15000, 3)"
      ]
     },
     "execution_count": 6,
     "metadata": {},
     "output_type": "execute_result"
    }
   ],
   "source": [
    "# shape of data\n",
    "data.shape"
   ]
  },
  {
   "cell_type": "markdown",
   "id": "34b7f5a0",
   "metadata": {},
   "source": [
    "* 3 features with 15000 observations."
   ]
  },
  {
   "cell_type": "code",
   "execution_count": 7,
   "id": "ee6d374b",
   "metadata": {},
   "outputs": [
    {
     "data": {
      "text/plain": [
       "Index(['order_id', 'order_placed_at', 'order_delivered_at'], dtype='object')"
      ]
     },
     "execution_count": 7,
     "metadata": {},
     "output_type": "execute_result"
    }
   ],
   "source": [
    "# columns in data\n",
    "data.columns"
   ]
  },
  {
   "cell_type": "code",
   "execution_count": 8,
   "id": "041099fa",
   "metadata": {},
   "outputs": [
    {
     "name": "stdout",
     "output_type": "stream",
     "text": [
      "<class 'pandas.core.frame.DataFrame'>\n",
      "RangeIndex: 15000 entries, 0 to 14999\n",
      "Data columns (total 3 columns):\n",
      " #   Column              Non-Null Count  Dtype \n",
      "---  ------              --------------  ----- \n",
      " 0   order_id            15000 non-null  int64 \n",
      " 1   order_placed_at     15000 non-null  object\n",
      " 2   order_delivered_at  15000 non-null  object\n",
      "dtypes: int64(1), object(2)\n",
      "memory usage: 351.7+ KB\n"
     ]
    }
   ],
   "source": [
    "# Information of data\n",
    "data.info()"
   ]
  },
  {
   "cell_type": "code",
   "execution_count": 10,
   "id": "672bc2ea",
   "metadata": {},
   "outputs": [
    {
     "data": {
      "text/html": [
       "<div>\n",
       "<style scoped>\n",
       "    .dataframe tbody tr th:only-of-type {\n",
       "        vertical-align: middle;\n",
       "    }\n",
       "\n",
       "    .dataframe tbody tr th {\n",
       "        vertical-align: top;\n",
       "    }\n",
       "\n",
       "    .dataframe thead th {\n",
       "        text-align: right;\n",
       "    }\n",
       "</style>\n",
       "<table border=\"1\" class=\"dataframe\">\n",
       "  <thead>\n",
       "    <tr style=\"text-align: right;\">\n",
       "      <th></th>\n",
       "      <th>count</th>\n",
       "      <th>mean</th>\n",
       "      <th>std</th>\n",
       "      <th>min</th>\n",
       "      <th>25%</th>\n",
       "      <th>50%</th>\n",
       "      <th>75%</th>\n",
       "      <th>max</th>\n",
       "    </tr>\n",
       "  </thead>\n",
       "  <tbody>\n",
       "    <tr>\n",
       "      <th>order_id</th>\n",
       "      <td>15000.0</td>\n",
       "      <td>1530610.5</td>\n",
       "      <td>4330.271354</td>\n",
       "      <td>1523111.0</td>\n",
       "      <td>1526860.75</td>\n",
       "      <td>1530610.5</td>\n",
       "      <td>1534360.25</td>\n",
       "      <td>1538110.0</td>\n",
       "    </tr>\n",
       "  </tbody>\n",
       "</table>\n",
       "</div>"
      ],
      "text/plain": [
       "            count       mean          std        min         25%        50%  \\\n",
       "order_id  15000.0  1530610.5  4330.271354  1523111.0  1526860.75  1530610.5   \n",
       "\n",
       "                 75%        max  \n",
       "order_id  1534360.25  1538110.0  "
      ]
     },
     "execution_count": 10,
     "metadata": {},
     "output_type": "execute_result"
    }
   ],
   "source": [
    "# Statics of data\n",
    "data.describe().T"
   ]
  },
  {
   "cell_type": "code",
   "execution_count": 11,
   "id": "75b35097",
   "metadata": {},
   "outputs": [
    {
     "data": {
      "text/plain": [
       "order_id              0\n",
       "order_placed_at       0\n",
       "order_delivered_at    0\n",
       "dtype: int64"
      ]
     },
     "execution_count": 11,
     "metadata": {},
     "output_type": "execute_result"
    }
   ],
   "source": [
    "# Missing values\n",
    "data.isnull().sum()"
   ]
  },
  {
   "cell_type": "code",
   "execution_count": 12,
   "id": "7282e604",
   "metadata": {},
   "outputs": [
    {
     "data": {
      "text/plain": [
       "0"
      ]
     },
     "execution_count": 12,
     "metadata": {},
     "output_type": "execute_result"
    }
   ],
   "source": [
    "# Duplicated value\n",
    "\n",
    "data.duplicated().sum()"
   ]
  },
  {
   "cell_type": "markdown",
   "id": "0ffa57af",
   "metadata": {},
   "source": [
    "# Feature Engineering on feature 'order_placed_at','order_delivered_at'"
   ]
  },
  {
   "cell_type": "code",
   "execution_count": 13,
   "id": "da8effc6",
   "metadata": {},
   "outputs": [],
   "source": [
    "data['order_placed_at']=pd.to_datetime(data['order_placed_at'])\n",
    "data['order_delivered_at']=pd.to_datetime(data['order_delivered_at'])"
   ]
  },
  {
   "cell_type": "code",
   "execution_count": 15,
   "id": "7eae6c0d",
   "metadata": {},
   "outputs": [],
   "source": [
    "data['time_taken_for_delivery']=data['order_delivered_at'] - data['order_placed_at']\n",
    "data['time_taken_for_delivery']=data['time_taken_for_delivery']/np.timedelta64(1,'m')"
   ]
  },
  {
   "cell_type": "code",
   "execution_count": 16,
   "id": "10bab515",
   "metadata": {},
   "outputs": [
    {
     "data": {
      "text/plain": [
       "order_id                            int64\n",
       "order_placed_at            datetime64[ns]\n",
       "order_delivered_at         datetime64[ns]\n",
       "time_taken_for_delivery           float64\n",
       "dtype: object"
      ]
     },
     "execution_count": 16,
     "metadata": {},
     "output_type": "execute_result"
    }
   ],
   "source": [
    "data.dtypes"
   ]
  },
  {
   "cell_type": "code",
   "execution_count": 17,
   "id": "8b808165",
   "metadata": {},
   "outputs": [],
   "source": [
    "data['order_placed_date']=data['order_placed_at'].dt.date"
   ]
  },
  {
   "cell_type": "code",
   "execution_count": 18,
   "id": "9cbdbbb4",
   "metadata": {},
   "outputs": [],
   "source": [
    "data['order_placed_time']=data['order_placed_at'].dt.time"
   ]
  },
  {
   "cell_type": "code",
   "execution_count": 20,
   "id": "52ad95e1",
   "metadata": {},
   "outputs": [],
   "source": [
    "data['order_delivered_date']=data['order_delivered_at'].dt.date"
   ]
  },
  {
   "cell_type": "code",
   "execution_count": 22,
   "id": "0e4bb5fb",
   "metadata": {},
   "outputs": [],
   "source": [
    "data['order_delivered_time']=data['order_delivered_at'].dt.time"
   ]
  },
  {
   "cell_type": "code",
   "execution_count": 23,
   "id": "09986147",
   "metadata": {},
   "outputs": [
    {
     "data": {
      "text/html": [
       "<div>\n",
       "<style scoped>\n",
       "    .dataframe tbody tr th:only-of-type {\n",
       "        vertical-align: middle;\n",
       "    }\n",
       "\n",
       "    .dataframe tbody tr th {\n",
       "        vertical-align: top;\n",
       "    }\n",
       "\n",
       "    .dataframe thead th {\n",
       "        text-align: right;\n",
       "    }\n",
       "</style>\n",
       "<table border=\"1\" class=\"dataframe\">\n",
       "  <thead>\n",
       "    <tr style=\"text-align: right;\">\n",
       "      <th></th>\n",
       "      <th>order_id</th>\n",
       "      <th>order_placed_at</th>\n",
       "      <th>order_delivered_at</th>\n",
       "      <th>time_taken_for_delivery</th>\n",
       "      <th>order_placed_date</th>\n",
       "      <th>order_placed_time</th>\n",
       "      <th>order_delivered_atte</th>\n",
       "      <th>order_delivered_date</th>\n",
       "      <th>order_delivered_time</th>\n",
       "    </tr>\n",
       "  </thead>\n",
       "  <tbody>\n",
       "    <tr>\n",
       "      <th>0</th>\n",
       "      <td>1523111</td>\n",
       "      <td>2023-03-01 00:00:59</td>\n",
       "      <td>2023-03-01 00:18:07.443132</td>\n",
       "      <td>17.140719</td>\n",
       "      <td>2023-03-01</td>\n",
       "      <td>00:00:59</td>\n",
       "      <td>2023-03-01</td>\n",
       "      <td>2023-03-01</td>\n",
       "      <td>00:18:07.443132</td>\n",
       "    </tr>\n",
       "    <tr>\n",
       "      <th>1</th>\n",
       "      <td>1523112</td>\n",
       "      <td>2023-03-01 00:03:59</td>\n",
       "      <td>2023-03-01 00:19:34.925241</td>\n",
       "      <td>15.598754</td>\n",
       "      <td>2023-03-01</td>\n",
       "      <td>00:03:59</td>\n",
       "      <td>2023-03-01</td>\n",
       "      <td>2023-03-01</td>\n",
       "      <td>00:19:34.925241</td>\n",
       "    </tr>\n",
       "    <tr>\n",
       "      <th>2</th>\n",
       "      <td>1523113</td>\n",
       "      <td>2023-03-01 00:07:22</td>\n",
       "      <td>2023-03-01 00:22:28.291385</td>\n",
       "      <td>15.104856</td>\n",
       "      <td>2023-03-01</td>\n",
       "      <td>00:07:22</td>\n",
       "      <td>2023-03-01</td>\n",
       "      <td>2023-03-01</td>\n",
       "      <td>00:22:28.291385</td>\n",
       "    </tr>\n",
       "    <tr>\n",
       "      <th>3</th>\n",
       "      <td>1523114</td>\n",
       "      <td>2023-03-01 00:07:47</td>\n",
       "      <td>2023-03-01 00:46:19.019399</td>\n",
       "      <td>38.533657</td>\n",
       "      <td>2023-03-01</td>\n",
       "      <td>00:07:47</td>\n",
       "      <td>2023-03-01</td>\n",
       "      <td>2023-03-01</td>\n",
       "      <td>00:46:19.019399</td>\n",
       "    </tr>\n",
       "    <tr>\n",
       "      <th>4</th>\n",
       "      <td>1523115</td>\n",
       "      <td>2023-03-01 00:09:03</td>\n",
       "      <td>2023-03-01 00:25:13.619056</td>\n",
       "      <td>16.176984</td>\n",
       "      <td>2023-03-01</td>\n",
       "      <td>00:09:03</td>\n",
       "      <td>2023-03-01</td>\n",
       "      <td>2023-03-01</td>\n",
       "      <td>00:25:13.619056</td>\n",
       "    </tr>\n",
       "  </tbody>\n",
       "</table>\n",
       "</div>"
      ],
      "text/plain": [
       "   order_id     order_placed_at         order_delivered_at  \\\n",
       "0   1523111 2023-03-01 00:00:59 2023-03-01 00:18:07.443132   \n",
       "1   1523112 2023-03-01 00:03:59 2023-03-01 00:19:34.925241   \n",
       "2   1523113 2023-03-01 00:07:22 2023-03-01 00:22:28.291385   \n",
       "3   1523114 2023-03-01 00:07:47 2023-03-01 00:46:19.019399   \n",
       "4   1523115 2023-03-01 00:09:03 2023-03-01 00:25:13.619056   \n",
       "\n",
       "   time_taken_for_delivery order_placed_date order_placed_time  \\\n",
       "0                17.140719        2023-03-01          00:00:59   \n",
       "1                15.598754        2023-03-01          00:03:59   \n",
       "2                15.104856        2023-03-01          00:07:22   \n",
       "3                38.533657        2023-03-01          00:07:47   \n",
       "4                16.176984        2023-03-01          00:09:03   \n",
       "\n",
       "  order_delivered_atte order_delivered_date order_delivered_time  \n",
       "0           2023-03-01           2023-03-01      00:18:07.443132  \n",
       "1           2023-03-01           2023-03-01      00:19:34.925241  \n",
       "2           2023-03-01           2023-03-01      00:22:28.291385  \n",
       "3           2023-03-01           2023-03-01      00:46:19.019399  \n",
       "4           2023-03-01           2023-03-01      00:25:13.619056  "
      ]
     },
     "execution_count": 23,
     "metadata": {},
     "output_type": "execute_result"
    }
   ],
   "source": [
    "data.head()"
   ]
  },
  {
   "cell_type": "raw",
   "id": "579f090f",
   "metadata": {},
   "source": [
    "Creating New Feature called time_period which will help to traffic of deliveries during differeent period of day"
   ]
  },
  {
   "cell_type": "code",
   "execution_count": 25,
   "id": "ae61ef0c",
   "metadata": {},
   "outputs": [],
   "source": [
    "#time_period feature\n",
    "data['time_period'] = data['order_placed_at'].apply(lambda x: \"late night\" if x.hour > 1 and x.hour <= 4 else (\"Morning\" if x.hour > 4 and x.hour <= 12 else (\"Afternoon\" if x.hour > 12 and x.hour <= 16 else (\"Evening\" if x.hour > 16 and x.hour <=19 else \"night\"))))"
   ]
  },
  {
   "cell_type": "code",
   "execution_count": 26,
   "id": "0e30bb30",
   "metadata": {},
   "outputs": [
    {
     "data": {
      "text/html": [
       "<div>\n",
       "<style scoped>\n",
       "    .dataframe tbody tr th:only-of-type {\n",
       "        vertical-align: middle;\n",
       "    }\n",
       "\n",
       "    .dataframe tbody tr th {\n",
       "        vertical-align: top;\n",
       "    }\n",
       "\n",
       "    .dataframe thead th {\n",
       "        text-align: right;\n",
       "    }\n",
       "</style>\n",
       "<table border=\"1\" class=\"dataframe\">\n",
       "  <thead>\n",
       "    <tr style=\"text-align: right;\">\n",
       "      <th></th>\n",
       "      <th>order_id</th>\n",
       "      <th>order_placed_at</th>\n",
       "      <th>order_delivered_at</th>\n",
       "      <th>time_taken_for_delivery</th>\n",
       "      <th>order_placed_date</th>\n",
       "      <th>order_placed_time</th>\n",
       "      <th>order_delivered_atte</th>\n",
       "      <th>order_delivered_date</th>\n",
       "      <th>order_delivered_time</th>\n",
       "      <th>time_period</th>\n",
       "    </tr>\n",
       "  </thead>\n",
       "  <tbody>\n",
       "    <tr>\n",
       "      <th>0</th>\n",
       "      <td>1523111</td>\n",
       "      <td>2023-03-01 00:00:59</td>\n",
       "      <td>2023-03-01 00:18:07.443132</td>\n",
       "      <td>17.140719</td>\n",
       "      <td>2023-03-01</td>\n",
       "      <td>00:00:59</td>\n",
       "      <td>2023-03-01</td>\n",
       "      <td>2023-03-01</td>\n",
       "      <td>00:18:07.443132</td>\n",
       "      <td>night</td>\n",
       "    </tr>\n",
       "    <tr>\n",
       "      <th>1</th>\n",
       "      <td>1523112</td>\n",
       "      <td>2023-03-01 00:03:59</td>\n",
       "      <td>2023-03-01 00:19:34.925241</td>\n",
       "      <td>15.598754</td>\n",
       "      <td>2023-03-01</td>\n",
       "      <td>00:03:59</td>\n",
       "      <td>2023-03-01</td>\n",
       "      <td>2023-03-01</td>\n",
       "      <td>00:19:34.925241</td>\n",
       "      <td>night</td>\n",
       "    </tr>\n",
       "    <tr>\n",
       "      <th>2</th>\n",
       "      <td>1523113</td>\n",
       "      <td>2023-03-01 00:07:22</td>\n",
       "      <td>2023-03-01 00:22:28.291385</td>\n",
       "      <td>15.104856</td>\n",
       "      <td>2023-03-01</td>\n",
       "      <td>00:07:22</td>\n",
       "      <td>2023-03-01</td>\n",
       "      <td>2023-03-01</td>\n",
       "      <td>00:22:28.291385</td>\n",
       "      <td>night</td>\n",
       "    </tr>\n",
       "    <tr>\n",
       "      <th>3</th>\n",
       "      <td>1523114</td>\n",
       "      <td>2023-03-01 00:07:47</td>\n",
       "      <td>2023-03-01 00:46:19.019399</td>\n",
       "      <td>38.533657</td>\n",
       "      <td>2023-03-01</td>\n",
       "      <td>00:07:47</td>\n",
       "      <td>2023-03-01</td>\n",
       "      <td>2023-03-01</td>\n",
       "      <td>00:46:19.019399</td>\n",
       "      <td>night</td>\n",
       "    </tr>\n",
       "    <tr>\n",
       "      <th>4</th>\n",
       "      <td>1523115</td>\n",
       "      <td>2023-03-01 00:09:03</td>\n",
       "      <td>2023-03-01 00:25:13.619056</td>\n",
       "      <td>16.176984</td>\n",
       "      <td>2023-03-01</td>\n",
       "      <td>00:09:03</td>\n",
       "      <td>2023-03-01</td>\n",
       "      <td>2023-03-01</td>\n",
       "      <td>00:25:13.619056</td>\n",
       "      <td>night</td>\n",
       "    </tr>\n",
       "  </tbody>\n",
       "</table>\n",
       "</div>"
      ],
      "text/plain": [
       "   order_id     order_placed_at         order_delivered_at  \\\n",
       "0   1523111 2023-03-01 00:00:59 2023-03-01 00:18:07.443132   \n",
       "1   1523112 2023-03-01 00:03:59 2023-03-01 00:19:34.925241   \n",
       "2   1523113 2023-03-01 00:07:22 2023-03-01 00:22:28.291385   \n",
       "3   1523114 2023-03-01 00:07:47 2023-03-01 00:46:19.019399   \n",
       "4   1523115 2023-03-01 00:09:03 2023-03-01 00:25:13.619056   \n",
       "\n",
       "   time_taken_for_delivery order_placed_date order_placed_time  \\\n",
       "0                17.140719        2023-03-01          00:00:59   \n",
       "1                15.598754        2023-03-01          00:03:59   \n",
       "2                15.104856        2023-03-01          00:07:22   \n",
       "3                38.533657        2023-03-01          00:07:47   \n",
       "4                16.176984        2023-03-01          00:09:03   \n",
       "\n",
       "  order_delivered_atte order_delivered_date order_delivered_time time_period  \n",
       "0           2023-03-01           2023-03-01      00:18:07.443132       night  \n",
       "1           2023-03-01           2023-03-01      00:19:34.925241       night  \n",
       "2           2023-03-01           2023-03-01      00:22:28.291385       night  \n",
       "3           2023-03-01           2023-03-01      00:46:19.019399       night  \n",
       "4           2023-03-01           2023-03-01      00:25:13.619056       night  "
      ]
     },
     "execution_count": 26,
     "metadata": {},
     "output_type": "execute_result"
    }
   ],
   "source": [
    "data.head()"
   ]
  },
  {
   "cell_type": "code",
   "execution_count": 27,
   "id": "9288cba5",
   "metadata": {},
   "outputs": [
    {
     "data": {
      "text/plain": [
       "Morning       5002\n",
       "night         3785\n",
       "Afternoon     2452\n",
       "Evening       1889\n",
       "late night    1872\n",
       "Name: time_period, dtype: int64"
      ]
     },
     "execution_count": 27,
     "metadata": {},
     "output_type": "execute_result"
    }
   ],
   "source": [
    "#countplot for time_period feature\n",
    "data['time_period'].value_counts()"
   ]
  },
  {
   "cell_type": "code",
   "execution_count": 28,
   "id": "08a5e300",
   "metadata": {},
   "outputs": [
    {
     "data": {
      "text/plain": [
       "<AxesSubplot:xlabel='time_period', ylabel='Count'>"
      ]
     },
     "execution_count": 28,
     "metadata": {},
     "output_type": "execute_result"
    },
    {
     "data": {
      "image/png": "[encoded data removed]",
      "text/plain": [
       "<Figure size 640x480 with 1 Axes>"
      ]
     },
     "metadata": {},
     "output_type": "display_data"
    }
   ],
   "source": [
    "sns.histplot(data['time_period'])"
   ]
  },
  {
   "cell_type": "markdown",
   "id": "897779a4",
   "metadata": {},
   "source": [
    "#### Report\n",
    "* during 4am to 12pm (morning) around 5002 orders are placed\n",
    "\n",
    "* follwed by 3785 at night and 2452 at afternoon"
   ]
  },
  {
   "cell_type": "markdown",
   "id": "a9243378",
   "metadata": {},
   "source": [
    "#### conclusion\n",
    "We can put more delivery boys for morning and afternoon shift"
   ]
  },
  {
   "cell_type": "raw",
   "id": "d3008d1c",
   "metadata": {},
   "source": [
    "Dropping feature order_placed_at and order_delivered_at"
   ]
  },
  {
   "cell_type": "code",
   "execution_count": 30,
   "id": "64bba8a1",
   "metadata": {},
   "outputs": [],
   "source": [
    "data.drop(['order_placed_at', 'order_delivered_at'], axis=1, inplace=True)"
   ]
  },
  {
   "cell_type": "code",
   "execution_count": 31,
   "id": "715f0423",
   "metadata": {},
   "outputs": [
    {
     "data": {
      "text/html": [
       "<div>\n",
       "<style scoped>\n",
       "    .dataframe tbody tr th:only-of-type {\n",
       "        vertical-align: middle;\n",
       "    }\n",
       "\n",
       "    .dataframe tbody tr th {\n",
       "        vertical-align: top;\n",
       "    }\n",
       "\n",
       "    .dataframe thead th {\n",
       "        text-align: right;\n",
       "    }\n",
       "</style>\n",
       "<table border=\"1\" class=\"dataframe\">\n",
       "  <thead>\n",
       "    <tr style=\"text-align: right;\">\n",
       "      <th></th>\n",
       "      <th>order_id</th>\n",
       "      <th>time_taken_for_delivery</th>\n",
       "      <th>order_placed_date</th>\n",
       "      <th>order_placed_time</th>\n",
       "      <th>order_delivered_atte</th>\n",
       "      <th>order_delivered_date</th>\n",
       "      <th>order_delivered_time</th>\n",
       "      <th>time_period</th>\n",
       "    </tr>\n",
       "  </thead>\n",
       "  <tbody>\n",
       "    <tr>\n",
       "      <th>0</th>\n",
       "      <td>1523111</td>\n",
       "      <td>17.140719</td>\n",
       "      <td>2023-03-01</td>\n",
       "      <td>00:00:59</td>\n",
       "      <td>2023-03-01</td>\n",
       "      <td>2023-03-01</td>\n",
       "      <td>00:18:07.443132</td>\n",
       "      <td>night</td>\n",
       "    </tr>\n",
       "    <tr>\n",
       "      <th>1</th>\n",
       "      <td>1523112</td>\n",
       "      <td>15.598754</td>\n",
       "      <td>2023-03-01</td>\n",
       "      <td>00:03:59</td>\n",
       "      <td>2023-03-01</td>\n",
       "      <td>2023-03-01</td>\n",
       "      <td>00:19:34.925241</td>\n",
       "      <td>night</td>\n",
       "    </tr>\n",
       "    <tr>\n",
       "      <th>2</th>\n",
       "      <td>1523113</td>\n",
       "      <td>15.104856</td>\n",
       "      <td>2023-03-01</td>\n",
       "      <td>00:07:22</td>\n",
       "      <td>2023-03-01</td>\n",
       "      <td>2023-03-01</td>\n",
       "      <td>00:22:28.291385</td>\n",
       "      <td>night</td>\n",
       "    </tr>\n",
       "    <tr>\n",
       "      <th>3</th>\n",
       "      <td>1523114</td>\n",
       "      <td>38.533657</td>\n",
       "      <td>2023-03-01</td>\n",
       "      <td>00:07:47</td>\n",
       "      <td>2023-03-01</td>\n",
       "      <td>2023-03-01</td>\n",
       "      <td>00:46:19.019399</td>\n",
       "      <td>night</td>\n",
       "    </tr>\n",
       "    <tr>\n",
       "      <th>4</th>\n",
       "      <td>1523115</td>\n",
       "      <td>16.176984</td>\n",
       "      <td>2023-03-01</td>\n",
       "      <td>00:09:03</td>\n",
       "      <td>2023-03-01</td>\n",
       "      <td>2023-03-01</td>\n",
       "      <td>00:25:13.619056</td>\n",
       "      <td>night</td>\n",
       "    </tr>\n",
       "  </tbody>\n",
       "</table>\n",
       "</div>"
      ],
      "text/plain": [
       "   order_id  time_taken_for_delivery order_placed_date order_placed_time  \\\n",
       "0   1523111                17.140719        2023-03-01          00:00:59   \n",
       "1   1523112                15.598754        2023-03-01          00:03:59   \n",
       "2   1523113                15.104856        2023-03-01          00:07:22   \n",
       "3   1523114                38.533657        2023-03-01          00:07:47   \n",
       "4   1523115                16.176984        2023-03-01          00:09:03   \n",
       "\n",
       "  order_delivered_atte order_delivered_date order_delivered_time time_period  \n",
       "0           2023-03-01           2023-03-01      00:18:07.443132       night  \n",
       "1           2023-03-01           2023-03-01      00:19:34.925241       night  \n",
       "2           2023-03-01           2023-03-01      00:22:28.291385       night  \n",
       "3           2023-03-01           2023-03-01      00:46:19.019399       night  \n",
       "4           2023-03-01           2023-03-01      00:25:13.619056       night  "
      ]
     },
     "execution_count": 31,
     "metadata": {},
     "output_type": "execute_result"
    }
   ],
   "source": [
    "data.head()"
   ]
  },
  {
   "cell_type": "code",
   "execution_count": 32,
   "id": "04e5d8e3",
   "metadata": {},
   "outputs": [
    {
     "data": {
      "text/plain": [
       "order_id                     int64\n",
       "time_taken_for_delivery    float64\n",
       "order_placed_date           object\n",
       "order_placed_time           object\n",
       "order_delivered_atte        object\n",
       "order_delivered_date        object\n",
       "order_delivered_time        object\n",
       "time_period                 object\n",
       "dtype: object"
      ]
     },
     "execution_count": 32,
     "metadata": {},
     "output_type": "execute_result"
    }
   ],
   "source": [
    "data.dtypes"
   ]
  },
  {
   "cell_type": "code",
   "execution_count": 34,
   "id": "2950cedb",
   "metadata": {},
   "outputs": [],
   "source": [
    "data['order_placed_day'] =  pd.to_datetime(data['order_placed_date']).dt.day_name()"
   ]
  },
  {
   "cell_type": "code",
   "execution_count": 35,
   "id": "84c8fff7",
   "metadata": {},
   "outputs": [],
   "source": [
    "data['order_delivered_day'] =  pd.to_datetime(data['order_delivered_date']).dt.day_name()"
   ]
  },
  {
   "cell_type": "code",
   "execution_count": 36,
   "id": "8c43cc76",
   "metadata": {},
   "outputs": [
    {
     "data": {
      "text/html": [
       "<div>\n",
       "<style scoped>\n",
       "    .dataframe tbody tr th:only-of-type {\n",
       "        vertical-align: middle;\n",
       "    }\n",
       "\n",
       "    .dataframe tbody tr th {\n",
       "        vertical-align: top;\n",
       "    }\n",
       "\n",
       "    .dataframe thead th {\n",
       "        text-align: right;\n",
       "    }\n",
       "</style>\n",
       "<table border=\"1\" class=\"dataframe\">\n",
       "  <thead>\n",
       "    <tr style=\"text-align: right;\">\n",
       "      <th></th>\n",
       "      <th>order_id</th>\n",
       "      <th>time_taken_for_delivery</th>\n",
       "      <th>order_placed_date</th>\n",
       "      <th>order_placed_time</th>\n",
       "      <th>order_delivered_atte</th>\n",
       "      <th>order_delivered_date</th>\n",
       "      <th>order_delivered_time</th>\n",
       "      <th>time_period</th>\n",
       "      <th>order_placed_day</th>\n",
       "      <th>order_delivered_day</th>\n",
       "    </tr>\n",
       "  </thead>\n",
       "  <tbody>\n",
       "    <tr>\n",
       "      <th>0</th>\n",
       "      <td>1523111</td>\n",
       "      <td>17.140719</td>\n",
       "      <td>2023-03-01</td>\n",
       "      <td>00:00:59</td>\n",
       "      <td>2023-03-01</td>\n",
       "      <td>2023-03-01</td>\n",
       "      <td>00:18:07.443132</td>\n",
       "      <td>night</td>\n",
       "      <td>Wednesday</td>\n",
       "      <td>Wednesday</td>\n",
       "    </tr>\n",
       "    <tr>\n",
       "      <th>1</th>\n",
       "      <td>1523112</td>\n",
       "      <td>15.598754</td>\n",
       "      <td>2023-03-01</td>\n",
       "      <td>00:03:59</td>\n",
       "      <td>2023-03-01</td>\n",
       "      <td>2023-03-01</td>\n",
       "      <td>00:19:34.925241</td>\n",
       "      <td>night</td>\n",
       "      <td>Wednesday</td>\n",
       "      <td>Wednesday</td>\n",
       "    </tr>\n",
       "    <tr>\n",
       "      <th>2</th>\n",
       "      <td>1523113</td>\n",
       "      <td>15.104856</td>\n",
       "      <td>2023-03-01</td>\n",
       "      <td>00:07:22</td>\n",
       "      <td>2023-03-01</td>\n",
       "      <td>2023-03-01</td>\n",
       "      <td>00:22:28.291385</td>\n",
       "      <td>night</td>\n",
       "      <td>Wednesday</td>\n",
       "      <td>Wednesday</td>\n",
       "    </tr>\n",
       "    <tr>\n",
       "      <th>3</th>\n",
       "      <td>1523114</td>\n",
       "      <td>38.533657</td>\n",
       "      <td>2023-03-01</td>\n",
       "      <td>00:07:47</td>\n",
       "      <td>2023-03-01</td>\n",
       "      <td>2023-03-01</td>\n",
       "      <td>00:46:19.019399</td>\n",
       "      <td>night</td>\n",
       "      <td>Wednesday</td>\n",
       "      <td>Wednesday</td>\n",
       "    </tr>\n",
       "    <tr>\n",
       "      <th>4</th>\n",
       "      <td>1523115</td>\n",
       "      <td>16.176984</td>\n",
       "      <td>2023-03-01</td>\n",
       "      <td>00:09:03</td>\n",
       "      <td>2023-03-01</td>\n",
       "      <td>2023-03-01</td>\n",
       "      <td>00:25:13.619056</td>\n",
       "      <td>night</td>\n",
       "      <td>Wednesday</td>\n",
       "      <td>Wednesday</td>\n",
       "    </tr>\n",
       "  </tbody>\n",
       "</table>\n",
       "</div>"
      ],
      "text/plain": [
       "   order_id  time_taken_for_delivery order_placed_date order_placed_time  \\\n",
       "0   1523111                17.140719        2023-03-01          00:00:59   \n",
       "1   1523112                15.598754        2023-03-01          00:03:59   \n",
       "2   1523113                15.104856        2023-03-01          00:07:22   \n",
       "3   1523114                38.533657        2023-03-01          00:07:47   \n",
       "4   1523115                16.176984        2023-03-01          00:09:03   \n",
       "\n",
       "  order_delivered_atte order_delivered_date order_delivered_time time_period  \\\n",
       "0           2023-03-01           2023-03-01      00:18:07.443132       night   \n",
       "1           2023-03-01           2023-03-01      00:19:34.925241       night   \n",
       "2           2023-03-01           2023-03-01      00:22:28.291385       night   \n",
       "3           2023-03-01           2023-03-01      00:46:19.019399       night   \n",
       "4           2023-03-01           2023-03-01      00:25:13.619056       night   \n",
       "\n",
       "  order_placed_day order_delivered_day  \n",
       "0        Wednesday           Wednesday  \n",
       "1        Wednesday           Wednesday  \n",
       "2        Wednesday           Wednesday  \n",
       "3        Wednesday           Wednesday  \n",
       "4        Wednesday           Wednesday  "
      ]
     },
     "execution_count": 36,
     "metadata": {},
     "output_type": "execute_result"
    }
   ],
   "source": [
    "data.head()"
   ]
  },
  {
   "cell_type": "markdown",
   "id": "84fdc1a9",
   "metadata": {},
   "source": [
    "#### Report\n",
    " Anyways delivery time will never be more than 2hr\n",
    "\n",
    "but if customer placed order at 23.50 delivary will be reached on next day that's why we created order_delivered_day feature else order_placed_day feature is enough"
   ]
  },
  {
   "cell_type": "markdown",
   "id": "f2723236",
   "metadata": {},
   "source": [
    "## Countplot for order_placed_day"
   ]
  },
  {
   "cell_type": "code",
   "execution_count": 37,
   "id": "7f724324",
   "metadata": {},
   "outputs": [
    {
     "data": {
      "text/plain": [
       "Thursday     2280\n",
       "Wednesday    2259\n",
       "Monday       2256\n",
       "Friday       2223\n",
       "Saturday     2209\n",
       "Sunday       2191\n",
       "Tuesday      1582\n",
       "Name: order_placed_day, dtype: int64"
      ]
     },
     "execution_count": 37,
     "metadata": {},
     "output_type": "execute_result"
    }
   ],
   "source": [
    "data['order_placed_day'].value_counts()"
   ]
  },
  {
   "cell_type": "code",
   "execution_count": 38,
   "id": "ae572252",
   "metadata": {},
   "outputs": [
    {
     "data": {
      "text/plain": [
       "<AxesSubplot:xlabel='order_placed_day', ylabel='Count'>"
      ]
     },
     "execution_count": 38,
     "metadata": {},
     "output_type": "execute_result"
    },
    {
     "data": {
      "image/png": "[encoded data removed]",
      "text/plain": [
       "<Figure size 800x500 with 1 Axes>"
      ]
     },
     "metadata": {},
     "output_type": "display_data"
    }
   ],
   "source": [
    "#countplot for feature order_placed_day\n",
    "plt.figure(figsize=(8,5))\n",
    "sns.histplot(data['order_placed_day'])"
   ]
  },
  {
   "cell_type": "markdown",
   "id": "485ed485",
   "metadata": {},
   "source": [
    "#### Report\n",
    "Except Tuesday all others day has appox equal number of ordered placed\n",
    "\n",
    "On Tuesday we can give some discount to customers so we can increase ordered on that day to"
   ]
  },
  {
   "cell_type": "code",
   "execution_count": 39,
   "id": "2fd116ac",
   "metadata": {},
   "outputs": [
    {
     "data": {
      "text/html": [
       "<div>\n",
       "<style scoped>\n",
       "    .dataframe tbody tr th:only-of-type {\n",
       "        vertical-align: middle;\n",
       "    }\n",
       "\n",
       "    .dataframe tbody tr th {\n",
       "        vertical-align: top;\n",
       "    }\n",
       "\n",
       "    .dataframe thead th {\n",
       "        text-align: right;\n",
       "    }\n",
       "</style>\n",
       "<table border=\"1\" class=\"dataframe\">\n",
       "  <thead>\n",
       "    <tr style=\"text-align: right;\">\n",
       "      <th></th>\n",
       "      <th>order_id</th>\n",
       "      <th>time_taken_for_delivery</th>\n",
       "      <th>order_placed_date</th>\n",
       "      <th>order_placed_time</th>\n",
       "      <th>order_delivered_atte</th>\n",
       "      <th>order_delivered_date</th>\n",
       "      <th>order_delivered_time</th>\n",
       "      <th>time_period</th>\n",
       "      <th>order_placed_day</th>\n",
       "      <th>order_delivered_day</th>\n",
       "    </tr>\n",
       "  </thead>\n",
       "  <tbody>\n",
       "    <tr>\n",
       "      <th>0</th>\n",
       "      <td>1523111</td>\n",
       "      <td>17.140719</td>\n",
       "      <td>2023-03-01</td>\n",
       "      <td>00:00:59</td>\n",
       "      <td>2023-03-01</td>\n",
       "      <td>2023-03-01</td>\n",
       "      <td>00:18:07.443132</td>\n",
       "      <td>night</td>\n",
       "      <td>Wednesday</td>\n",
       "      <td>Wednesday</td>\n",
       "    </tr>\n",
       "    <tr>\n",
       "      <th>1</th>\n",
       "      <td>1523112</td>\n",
       "      <td>15.598754</td>\n",
       "      <td>2023-03-01</td>\n",
       "      <td>00:03:59</td>\n",
       "      <td>2023-03-01</td>\n",
       "      <td>2023-03-01</td>\n",
       "      <td>00:19:34.925241</td>\n",
       "      <td>night</td>\n",
       "      <td>Wednesday</td>\n",
       "      <td>Wednesday</td>\n",
       "    </tr>\n",
       "    <tr>\n",
       "      <th>2</th>\n",
       "      <td>1523113</td>\n",
       "      <td>15.104856</td>\n",
       "      <td>2023-03-01</td>\n",
       "      <td>00:07:22</td>\n",
       "      <td>2023-03-01</td>\n",
       "      <td>2023-03-01</td>\n",
       "      <td>00:22:28.291385</td>\n",
       "      <td>night</td>\n",
       "      <td>Wednesday</td>\n",
       "      <td>Wednesday</td>\n",
       "    </tr>\n",
       "    <tr>\n",
       "      <th>3</th>\n",
       "      <td>1523114</td>\n",
       "      <td>38.533657</td>\n",
       "      <td>2023-03-01</td>\n",
       "      <td>00:07:47</td>\n",
       "      <td>2023-03-01</td>\n",
       "      <td>2023-03-01</td>\n",
       "      <td>00:46:19.019399</td>\n",
       "      <td>night</td>\n",
       "      <td>Wednesday</td>\n",
       "      <td>Wednesday</td>\n",
       "    </tr>\n",
       "    <tr>\n",
       "      <th>4</th>\n",
       "      <td>1523115</td>\n",
       "      <td>16.176984</td>\n",
       "      <td>2023-03-01</td>\n",
       "      <td>00:09:03</td>\n",
       "      <td>2023-03-01</td>\n",
       "      <td>2023-03-01</td>\n",
       "      <td>00:25:13.619056</td>\n",
       "      <td>night</td>\n",
       "      <td>Wednesday</td>\n",
       "      <td>Wednesday</td>\n",
       "    </tr>\n",
       "  </tbody>\n",
       "</table>\n",
       "</div>"
      ],
      "text/plain": [
       "   order_id  time_taken_for_delivery order_placed_date order_placed_time  \\\n",
       "0   1523111                17.140719        2023-03-01          00:00:59   \n",
       "1   1523112                15.598754        2023-03-01          00:03:59   \n",
       "2   1523113                15.104856        2023-03-01          00:07:22   \n",
       "3   1523114                38.533657        2023-03-01          00:07:47   \n",
       "4   1523115                16.176984        2023-03-01          00:09:03   \n",
       "\n",
       "  order_delivered_atte order_delivered_date order_delivered_time time_period  \\\n",
       "0           2023-03-01           2023-03-01      00:18:07.443132       night   \n",
       "1           2023-03-01           2023-03-01      00:19:34.925241       night   \n",
       "2           2023-03-01           2023-03-01      00:22:28.291385       night   \n",
       "3           2023-03-01           2023-03-01      00:46:19.019399       night   \n",
       "4           2023-03-01           2023-03-01      00:25:13.619056       night   \n",
       "\n",
       "  order_placed_day order_delivered_day  \n",
       "0        Wednesday           Wednesday  \n",
       "1        Wednesday           Wednesday  \n",
       "2        Wednesday           Wednesday  \n",
       "3        Wednesday           Wednesday  \n",
       "4        Wednesday           Wednesday  "
      ]
     },
     "execution_count": 39,
     "metadata": {},
     "output_type": "execute_result"
    }
   ],
   "source": [
    "data.head()"
   ]
  },
  {
   "cell_type": "code",
   "execution_count": 40,
   "id": "7e500fff",
   "metadata": {},
   "outputs": [
    {
     "data": {
      "text/plain": [
       "order_id                     int64\n",
       "time_taken_for_delivery    float64\n",
       "order_placed_date           object\n",
       "order_placed_time           object\n",
       "order_delivered_atte        object\n",
       "order_delivered_date        object\n",
       "order_delivered_time        object\n",
       "time_period                 object\n",
       "order_placed_day            object\n",
       "order_delivered_day         object\n",
       "dtype: object"
      ]
     },
     "execution_count": 40,
     "metadata": {},
     "output_type": "execute_result"
    }
   ],
   "source": [
    "data.dtypes"
   ]
  },
  {
   "cell_type": "code",
   "execution_count": 41,
   "id": "33cd1c5d",
   "metadata": {},
   "outputs": [
    {
     "data": {
      "text/plain": [
       "15.000010333333334"
      ]
     },
     "execution_count": 41,
     "metadata": {},
     "output_type": "execute_result"
    }
   ],
   "source": [
    "#analysing feature time_taken_for_delivery\n",
    "data['time_taken_for_delivery'].min()"
   ]
  },
  {
   "cell_type": "code",
   "execution_count": 42,
   "id": "687473a3",
   "metadata": {},
   "outputs": [
    {
     "data": {
      "text/plain": [
       "20.499389326467746"
      ]
     },
     "execution_count": 42,
     "metadata": {},
     "output_type": "execute_result"
    }
   ],
   "source": [
    "data['time_taken_for_delivery'].mean()"
   ]
  },
  {
   "cell_type": "code",
   "execution_count": 43,
   "id": "22c6b4c7",
   "metadata": {},
   "outputs": [
    {
     "data": {
      "text/plain": [
       "15.797986066666667"
      ]
     },
     "execution_count": 43,
     "metadata": {},
     "output_type": "execute_result"
    }
   ],
   "source": [
    "data['time_taken_for_delivery'].median()"
   ]
  },
  {
   "cell_type": "code",
   "execution_count": 44,
   "id": "4fdea19d",
   "metadata": {},
   "outputs": [
    {
     "data": {
      "text/plain": [
       "7299.831374933333"
      ]
     },
     "execution_count": 44,
     "metadata": {},
     "output_type": "execute_result"
    }
   ],
   "source": [
    "data['time_taken_for_delivery'].max()"
   ]
  },
  {
   "cell_type": "code",
   "execution_count": 45,
   "id": "a5203706",
   "metadata": {},
   "outputs": [
    {
     "data": {
      "text/plain": [
       "27.261043996666658"
      ]
     },
     "execution_count": 45,
     "metadata": {},
     "output_type": "execute_result"
    }
   ],
   "source": [
    "data['time_taken_for_delivery'].quantile(0.95)"
   ]
  },
  {
   "cell_type": "code",
   "execution_count": 46,
   "id": "2556e47c",
   "metadata": {},
   "outputs": [
    {
     "name": "stderr",
     "output_type": "stream",
     "text": [
      "C:\\ProgramData\\Anaconda3\\lib\\site-packages\\seaborn\\_decorators.py:36: FutureWarning: Pass the following variable as a keyword arg: x. From version 0.12, the only valid positional argument will be `data`, and passing other arguments without an explicit keyword will result in an error or misinterpretation.\n",
      "  warnings.warn(\n"
     ]
    },
    {
     "data": {
      "text/plain": [
       "<AxesSubplot:xlabel='time_taken_for_delivery'>"
      ]
     },
     "execution_count": 46,
     "metadata": {},
     "output_type": "execute_result"
    },
    {
     "data": {
      "image/png": "[encoded data removed]",
      "text/plain": [
       "<Figure size 1200x500 with 1 Axes>"
      ]
     },
     "metadata": {},
     "output_type": "display_data"
    }
   ],
   "source": [
    "plt.figure(figsize=(12,5))\n",
    "sns.boxplot(data['time_taken_for_delivery'])"
   ]
  },
  {
   "cell_type": "code",
   "execution_count": 47,
   "id": "be2132a2",
   "metadata": {},
   "outputs": [
    {
     "data": {
      "text/plain": [
       "<seaborn.axisgrid.FacetGrid at 0x255c8ea0cd0>"
      ]
     },
     "execution_count": 47,
     "metadata": {},
     "output_type": "execute_result"
    },
    {
     "data": {
      "image/png": "[encoded data removed]",
      "text/plain": [
       "<Figure size 500x500 with 1 Axes>"
      ]
     },
     "metadata": {},
     "output_type": "display_data"
    }
   ],
   "source": [
    "sns.displot(data['time_taken_for_delivery'], kind='kde')"
   ]
  },
  {
   "cell_type": "code",
   "execution_count": 52,
   "id": "bb857ed7",
   "metadata": {},
   "outputs": [
    {
     "name": "stdout",
     "output_type": "stream",
     "text": [
      "Out of 15k deliveries 1 deliveries are late\n",
      "Out of 15k deliveries 2 deliveries are late\n",
      "Out of 15k deliveries 3 deliveries are late\n",
      "Out of 15k deliveries 4 deliveries are late\n",
      "Out of 15k deliveries 5 deliveries are late\n",
      "Out of 15k deliveries 6 deliveries are late\n",
      "Out of 15k deliveries 7 deliveries are late\n",
      "Out of 15k deliveries 8 deliveries are late\n",
      "Out of 15k deliveries 9 deliveries are late\n",
      "Out of 15k deliveries 10 deliveries are late\n",
      "Out of 15k deliveries 11 deliveries are late\n",
      "Out of 15k deliveries 12 deliveries are late\n",
      "Out of 15k deliveries 13 deliveries are late\n",
      "Out of 15k deliveries 14 deliveries are late\n",
      "Out of 15k deliveries 15 deliveries are late\n",
      "Out of 15k deliveries 16 deliveries are late\n",
      "Out of 15k deliveries 17 deliveries are late\n",
      "Out of 15k deliveries 18 deliveries are late\n",
      "Out of 15k deliveries 19 deliveries are late\n",
      "Out of 15k deliveries 20 deliveries are late\n",
      "Out of 15k deliveries 21 deliveries are late\n",
      "Out of 15k deliveries 22 deliveries are late\n",
      "Out of 15k deliveries 23 deliveries are late\n",
      "Out of 15k deliveries 24 deliveries are late\n",
      "Out of 15k deliveries 25 deliveries are late\n",
      "Out of 15k deliveries 26 deliveries are late\n",
      "Out of 15k deliveries 27 deliveries are late\n",
      "Out of 15k deliveries 28 deliveries are late\n",
      "Out of 15k deliveries 29 deliveries are late\n",
      "Out of 15k deliveries 30 deliveries are late\n",
      "Out of 15k deliveries 31 deliveries are late\n",
      "Out of 15k deliveries 32 deliveries are late\n",
      "Out of 15k deliveries 33 deliveries are late\n",
      "Out of 15k deliveries 34 deliveries are late\n",
      "Out of 15k deliveries 35 deliveries are late\n",
      "Out of 15k deliveries 36 deliveries are late\n",
      "Out of 15k deliveries 37 deliveries are late\n",
      "Out of 15k deliveries 38 deliveries are late\n",
      "Out of 15k deliveries 39 deliveries are late\n",
      "Out of 15k deliveries 40 deliveries are late\n",
      "Out of 15k deliveries 41 deliveries are late\n",
      "Out of 15k deliveries 42 deliveries are late\n",
      "Out of 15k deliveries 43 deliveries are late\n",
      "Out of 15k deliveries 44 deliveries are late\n",
      "Out of 15k deliveries 45 deliveries are late\n",
      "Out of 15k deliveries 46 deliveries are late\n",
      "Out of 15k deliveries 47 deliveries are late\n",
      "Out of 15k deliveries 48 deliveries are late\n",
      "Out of 15k deliveries 49 deliveries are late\n",
      "Out of 15k deliveries 50 deliveries are late\n",
      "Out of 15k deliveries 51 deliveries are late\n",
      "Out of 15k deliveries 52 deliveries are late\n",
      "Out of 15k deliveries 53 deliveries are late\n",
      "Out of 15k deliveries 54 deliveries are late\n",
      "Out of 15k deliveries 55 deliveries are late\n",
      "Out of 15k deliveries 56 deliveries are late\n",
      "Out of 15k deliveries 57 deliveries are late\n",
      "Out of 15k deliveries 58 deliveries are late\n",
      "Out of 15k deliveries 59 deliveries are late\n",
      "Out of 15k deliveries 60 deliveries are late\n",
      "Out of 15k deliveries 61 deliveries are late\n",
      "Out of 15k deliveries 62 deliveries are late\n",
      "Out of 15k deliveries 63 deliveries are late\n",
      "Out of 15k deliveries 64 deliveries are late\n",
      "Out of 15k deliveries 65 deliveries are late\n",
      "Out of 15k deliveries 66 deliveries are late\n",
      "Out of 15k deliveries 67 deliveries are late\n",
      "Out of 15k deliveries 68 deliveries are late\n",
      "Out of 15k deliveries 69 deliveries are late\n",
      "Out of 15k deliveries 70 deliveries are late\n",
      "Out of 15k deliveries 71 deliveries are late\n",
      "Out of 15k deliveries 72 deliveries are late\n",
      "Out of 15k deliveries 73 deliveries are late\n",
      "Out of 15k deliveries 74 deliveries are late\n",
      "Out of 15k deliveries 75 deliveries are late\n",
      "Out of 15k deliveries 76 deliveries are late\n",
      "Out of 15k deliveries 77 deliveries are late\n",
      "Out of 15k deliveries 78 deliveries are late\n",
      "Out of 15k deliveries 79 deliveries are late\n",
      "Out of 15k deliveries 80 deliveries are late\n",
      "Out of 15k deliveries 81 deliveries are late\n",
      "Out of 15k deliveries 82 deliveries are late\n",
      "Out of 15k deliveries 83 deliveries are late\n",
      "Out of 15k deliveries 84 deliveries are late\n",
      "Out of 15k deliveries 85 deliveries are late\n",
      "Out of 15k deliveries 86 deliveries are late\n",
      "Out of 15k deliveries 87 deliveries are late\n",
      "Out of 15k deliveries 88 deliveries are late\n",
      "Out of 15k deliveries 89 deliveries are late\n",
      "Out of 15k deliveries 90 deliveries are late\n",
      "Out of 15k deliveries 91 deliveries are late\n",
      "Out of 15k deliveries 92 deliveries are late\n",
      "Out of 15k deliveries 93 deliveries are late\n",
      "Out of 15k deliveries 94 deliveries are late\n",
      "Out of 15k deliveries 95 deliveries are late\n",
      "Out of 15k deliveries 96 deliveries are late\n",
      "Out of 15k deliveries 97 deliveries are late\n",
      "Out of 15k deliveries 98 deliveries are late\n",
      "Out of 15k deliveries 99 deliveries are late\n",
      "Out of 15k deliveries 100 deliveries are late\n",
      "Out of 15k deliveries 101 deliveries are late\n",
      "Out of 15k deliveries 102 deliveries are late\n",
      "Out of 15k deliveries 103 deliveries are late\n",
      "Out of 15k deliveries 104 deliveries are late\n",
      "Out of 15k deliveries 105 deliveries are late\n",
      "Out of 15k deliveries 106 deliveries are late\n",
      "Out of 15k deliveries 107 deliveries are late\n",
      "Out of 15k deliveries 108 deliveries are late\n",
      "Out of 15k deliveries 109 deliveries are late\n",
      "Out of 15k deliveries 110 deliveries are late\n",
      "Out of 15k deliveries 111 deliveries are late\n",
      "Out of 15k deliveries 112 deliveries are late\n",
      "Out of 15k deliveries 113 deliveries are late\n",
      "Out of 15k deliveries 114 deliveries are late\n",
      "Out of 15k deliveries 115 deliveries are late\n",
      "Out of 15k deliveries 116 deliveries are late\n",
      "Out of 15k deliveries 117 deliveries are late\n",
      "Out of 15k deliveries 118 deliveries are late\n",
      "Out of 15k deliveries 119 deliveries are late\n",
      "Out of 15k deliveries 120 deliveries are late\n",
      "Out of 15k deliveries 121 deliveries are late\n",
      "Out of 15k deliveries 122 deliveries are late\n",
      "Out of 15k deliveries 123 deliveries are late\n",
      "Out of 15k deliveries 124 deliveries are late\n",
      "Out of 15k deliveries 125 deliveries are late\n",
      "Out of 15k deliveries 126 deliveries are late\n",
      "Out of 15k deliveries 127 deliveries are late\n",
      "Out of 15k deliveries 128 deliveries are late\n",
      "Out of 15k deliveries 129 deliveries are late\n",
      "Out of 15k deliveries 130 deliveries are late\n",
      "Out of 15k deliveries 131 deliveries are late\n",
      "Out of 15k deliveries 132 deliveries are late\n",
      "Out of 15k deliveries 133 deliveries are late\n",
      "Out of 15k deliveries 134 deliveries are late\n",
      "Out of 15k deliveries 135 deliveries are late\n",
      "Out of 15k deliveries 136 deliveries are late\n",
      "Out of 15k deliveries 137 deliveries are late\n",
      "Out of 15k deliveries 138 deliveries are late\n",
      "Out of 15k deliveries 139 deliveries are late\n",
      "Out of 15k deliveries 140 deliveries are late\n",
      "Out of 15k deliveries 141 deliveries are late\n",
      "Out of 15k deliveries 142 deliveries are late\n",
      "Out of 15k deliveries 143 deliveries are late\n",
      "Out of 15k deliveries 144 deliveries are late\n",
      "Out of 15k deliveries 145 deliveries are late\n",
      "Out of 15k deliveries 146 deliveries are late\n",
      "Out of 15k deliveries 147 deliveries are late\n",
      "Out of 15k deliveries 148 deliveries are late\n",
      "Out of 15k deliveries 149 deliveries are late\n",
      "Out of 15k deliveries 150 deliveries are late\n",
      "Out of 15k deliveries 151 deliveries are late\n",
      "Out of 15k deliveries 152 deliveries are late\n",
      "Out of 15k deliveries 153 deliveries are late\n",
      "Out of 15k deliveries 154 deliveries are late\n",
      "Out of 15k deliveries 155 deliveries are late\n",
      "Out of 15k deliveries 156 deliveries are late\n",
      "Out of 15k deliveries 157 deliveries are late\n",
      "Out of 15k deliveries 158 deliveries are late\n",
      "Out of 15k deliveries 159 deliveries are late\n",
      "Out of 15k deliveries 160 deliveries are late\n",
      "Out of 15k deliveries 161 deliveries are late\n",
      "Out of 15k deliveries 162 deliveries are late\n",
      "Out of 15k deliveries 163 deliveries are late\n",
      "Out of 15k deliveries 164 deliveries are late\n",
      "Out of 15k deliveries 165 deliveries are late\n",
      "Out of 15k deliveries 166 deliveries are late\n",
      "Out of 15k deliveries 167 deliveries are late\n",
      "Out of 15k deliveries 168 deliveries are late\n",
      "Out of 15k deliveries 169 deliveries are late\n",
      "Out of 15k deliveries 170 deliveries are late\n",
      "Out of 15k deliveries 171 deliveries are late\n",
      "Out of 15k deliveries 172 deliveries are late\n",
      "Out of 15k deliveries 173 deliveries are late\n",
      "Out of 15k deliveries 174 deliveries are late\n",
      "Out of 15k deliveries 175 deliveries are late\n",
      "Out of 15k deliveries 176 deliveries are late\n",
      "Out of 15k deliveries 177 deliveries are late\n",
      "Out of 15k deliveries 178 deliveries are late\n",
      "Out of 15k deliveries 179 deliveries are late\n",
      "Out of 15k deliveries 180 deliveries are late\n",
      "Out of 15k deliveries 181 deliveries are late\n",
      "Out of 15k deliveries 182 deliveries are late\n",
      "Out of 15k deliveries 183 deliveries are late\n",
      "Out of 15k deliveries 184 deliveries are late\n",
      "Out of 15k deliveries 185 deliveries are late\n",
      "Out of 15k deliveries 186 deliveries are late\n",
      "Out of 15k deliveries 187 deliveries are late\n",
      "Out of 15k deliveries 188 deliveries are late\n",
      "Out of 15k deliveries 189 deliveries are late\n",
      "Out of 15k deliveries 190 deliveries are late\n",
      "Out of 15k deliveries 191 deliveries are late\n",
      "Out of 15k deliveries 192 deliveries are late\n",
      "Out of 15k deliveries 193 deliveries are late\n",
      "Out of 15k deliveries 194 deliveries are late\n",
      "Out of 15k deliveries 195 deliveries are late\n",
      "Out of 15k deliveries 196 deliveries are late\n",
      "Out of 15k deliveries 197 deliveries are late\n",
      "Out of 15k deliveries 198 deliveries are late\n",
      "Out of 15k deliveries 199 deliveries are late\n",
      "Out of 15k deliveries 200 deliveries are late\n",
      "Out of 15k deliveries 201 deliveries are late\n",
      "Out of 15k deliveries 202 deliveries are late\n",
      "Out of 15k deliveries 203 deliveries are late\n",
      "Out of 15k deliveries 204 deliveries are late\n",
      "Out of 15k deliveries 205 deliveries are late\n",
      "Out of 15k deliveries 206 deliveries are late\n",
      "Out of 15k deliveries 207 deliveries are late\n",
      "Out of 15k deliveries 208 deliveries are late\n",
      "Out of 15k deliveries 209 deliveries are late\n",
      "Out of 15k deliveries 210 deliveries are late\n",
      "Out of 15k deliveries 211 deliveries are late\n",
      "Out of 15k deliveries 212 deliveries are late\n",
      "Out of 15k deliveries 213 deliveries are late\n",
      "Out of 15k deliveries 214 deliveries are late\n",
      "Out of 15k deliveries 215 deliveries are late\n",
      "Out of 15k deliveries 216 deliveries are late\n",
      "Out of 15k deliveries 217 deliveries are late\n",
      "Out of 15k deliveries 218 deliveries are late\n",
      "Out of 15k deliveries 219 deliveries are late\n",
      "Out of 15k deliveries 220 deliveries are late\n",
      "Out of 15k deliveries 221 deliveries are late\n",
      "Out of 15k deliveries 222 deliveries are late\n",
      "Out of 15k deliveries 223 deliveries are late\n",
      "Out of 15k deliveries 224 deliveries are late\n",
      "Out of 15k deliveries 225 deliveries are late\n",
      "Out of 15k deliveries 226 deliveries are late\n",
      "Out of 15k deliveries 227 deliveries are late\n",
      "Out of 15k deliveries 228 deliveries are late\n",
      "Out of 15k deliveries 229 deliveries are late\n",
      "Out of 15k deliveries 230 deliveries are late\n",
      "Out of 15k deliveries 231 deliveries are late\n",
      "Out of 15k deliveries 232 deliveries are late\n",
      "Out of 15k deliveries 233 deliveries are late\n",
      "Out of 15k deliveries 234 deliveries are late\n",
      "Out of 15k deliveries 235 deliveries are late\n",
      "Out of 15k deliveries 236 deliveries are late\n",
      "Out of 15k deliveries 237 deliveries are late\n",
      "Out of 15k deliveries 238 deliveries are late\n",
      "Out of 15k deliveries 239 deliveries are late\n",
      "Out of 15k deliveries 240 deliveries are late\n",
      "Out of 15k deliveries 241 deliveries are late\n",
      "Out of 15k deliveries 242 deliveries are late\n",
      "Out of 15k deliveries 243 deliveries are late\n",
      "Out of 15k deliveries 244 deliveries are late\n",
      "Out of 15k deliveries 245 deliveries are late\n",
      "Out of 15k deliveries 246 deliveries are late\n",
      "Out of 15k deliveries 247 deliveries are late\n",
      "Out of 15k deliveries 248 deliveries are late\n",
      "Out of 15k deliveries 249 deliveries are late\n",
      "Out of 15k deliveries 250 deliveries are late\n",
      "Out of 15k deliveries 251 deliveries are late\n",
      "Out of 15k deliveries 252 deliveries are late\n",
      "Out of 15k deliveries 253 deliveries are late\n",
      "Out of 15k deliveries 254 deliveries are late\n",
      "Out of 15k deliveries 255 deliveries are late\n",
      "Out of 15k deliveries 256 deliveries are late\n",
      "Out of 15k deliveries 257 deliveries are late\n",
      "Out of 15k deliveries 258 deliveries are late\n",
      "Out of 15k deliveries 259 deliveries are late\n",
      "Out of 15k deliveries 260 deliveries are late\n",
      "Out of 15k deliveries 261 deliveries are late\n",
      "Out of 15k deliveries 262 deliveries are late\n",
      "Out of 15k deliveries 263 deliveries are late\n",
      "Out of 15k deliveries 264 deliveries are late\n",
      "Out of 15k deliveries 265 deliveries are late\n",
      "Out of 15k deliveries 266 deliveries are late\n",
      "Out of 15k deliveries 267 deliveries are late\n",
      "Out of 15k deliveries 268 deliveries are late\n",
      "Out of 15k deliveries 269 deliveries are late\n",
      "Out of 15k deliveries 270 deliveries are late\n",
      "Out of 15k deliveries 271 deliveries are late\n",
      "Out of 15k deliveries 272 deliveries are late\n",
      "Out of 15k deliveries 273 deliveries are late\n",
      "Out of 15k deliveries 274 deliveries are late\n",
      "Out of 15k deliveries 275 deliveries are late\n",
      "Out of 15k deliveries 276 deliveries are late\n",
      "Out of 15k deliveries 277 deliveries are late\n",
      "Out of 15k deliveries 278 deliveries are late\n",
      "Out of 15k deliveries 279 deliveries are late\n",
      "Out of 15k deliveries 280 deliveries are late\n",
      "Out of 15k deliveries 281 deliveries are late\n",
      "Out of 15k deliveries 282 deliveries are late\n",
      "Out of 15k deliveries 283 deliveries are late\n",
      "Out of 15k deliveries 284 deliveries are late\n",
      "Out of 15k deliveries 285 deliveries are late\n",
      "Out of 15k deliveries 286 deliveries are late\n",
      "Out of 15k deliveries 287 deliveries are late\n",
      "Out of 15k deliveries 288 deliveries are late\n",
      "Out of 15k deliveries 289 deliveries are late\n",
      "Out of 15k deliveries 290 deliveries are late\n",
      "Out of 15k deliveries 291 deliveries are late\n",
      "Out of 15k deliveries 292 deliveries are late\n",
      "Out of 15k deliveries 293 deliveries are late\n",
      "Out of 15k deliveries 294 deliveries are late\n",
      "Out of 15k deliveries 295 deliveries are late\n",
      "Out of 15k deliveries 296 deliveries are late\n",
      "Out of 15k deliveries 297 deliveries are late\n",
      "Out of 15k deliveries 298 deliveries are late\n",
      "Out of 15k deliveries 299 deliveries are late\n",
      "Out of 15k deliveries 300 deliveries are late\n",
      "Out of 15k deliveries 301 deliveries are late\n",
      "Out of 15k deliveries 302 deliveries are late\n",
      "Out of 15k deliveries 303 deliveries are late\n",
      "Out of 15k deliveries 304 deliveries are late\n",
      "Out of 15k deliveries 305 deliveries are late\n",
      "Out of 15k deliveries 306 deliveries are late\n",
      "Out of 15k deliveries 307 deliveries are late\n",
      "Out of 15k deliveries 308 deliveries are late\n",
      "Out of 15k deliveries 309 deliveries are late\n",
      "Out of 15k deliveries 310 deliveries are late\n",
      "Out of 15k deliveries 311 deliveries are late\n",
      "Out of 15k deliveries 312 deliveries are late\n",
      "Out of 15k deliveries 313 deliveries are late\n",
      "Out of 15k deliveries 314 deliveries are late\n",
      "Out of 15k deliveries 315 deliveries are late\n",
      "Out of 15k deliveries 316 deliveries are late\n",
      "Out of 15k deliveries 317 deliveries are late\n",
      "Out of 15k deliveries 318 deliveries are late\n",
      "Out of 15k deliveries 319 deliveries are late\n",
      "Out of 15k deliveries 320 deliveries are late\n",
      "Out of 15k deliveries 321 deliveries are late\n",
      "Out of 15k deliveries 322 deliveries are late\n",
      "Out of 15k deliveries 323 deliveries are late\n",
      "Out of 15k deliveries 324 deliveries are late\n",
      "Out of 15k deliveries 325 deliveries are late\n",
      "Out of 15k deliveries 326 deliveries are late\n",
      "Out of 15k deliveries 327 deliveries are late\n",
      "Out of 15k deliveries 328 deliveries are late\n",
      "Out of 15k deliveries 329 deliveries are late\n",
      "Out of 15k deliveries 330 deliveries are late\n",
      "Out of 15k deliveries 331 deliveries are late\n",
      "Out of 15k deliveries 332 deliveries are late\n",
      "Out of 15k deliveries 333 deliveries are late\n",
      "Out of 15k deliveries 334 deliveries are late\n",
      "Out of 15k deliveries 335 deliveries are late\n",
      "Out of 15k deliveries 336 deliveries are late\n",
      "Out of 15k deliveries 337 deliveries are late\n",
      "Out of 15k deliveries 338 deliveries are late\n",
      "Out of 15k deliveries 339 deliveries are late\n",
      "Out of 15k deliveries 340 deliveries are late\n",
      "Out of 15k deliveries 341 deliveries are late\n",
      "Out of 15k deliveries 342 deliveries are late\n",
      "Out of 15k deliveries 343 deliveries are late\n",
      "Out of 15k deliveries 344 deliveries are late\n",
      "Out of 15k deliveries 345 deliveries are late\n",
      "Out of 15k deliveries 346 deliveries are late\n",
      "Out of 15k deliveries 347 deliveries are late\n",
      "Out of 15k deliveries 348 deliveries are late\n",
      "Out of 15k deliveries 349 deliveries are late\n",
      "Out of 15k deliveries 350 deliveries are late\n",
      "Out of 15k deliveries 351 deliveries are late\n",
      "Out of 15k deliveries 352 deliveries are late\n",
      "Out of 15k deliveries 353 deliveries are late\n",
      "Out of 15k deliveries 354 deliveries are late\n",
      "Out of 15k deliveries 355 deliveries are late\n",
      "Out of 15k deliveries 356 deliveries are late\n",
      "Out of 15k deliveries 357 deliveries are late\n",
      "Out of 15k deliveries 358 deliveries are late\n",
      "Out of 15k deliveries 359 deliveries are late\n",
      "Out of 15k deliveries 360 deliveries are late\n",
      "Out of 15k deliveries 361 deliveries are late\n",
      "Out of 15k deliveries 362 deliveries are late\n",
      "Out of 15k deliveries 363 deliveries are late\n",
      "Out of 15k deliveries 364 deliveries are late\n",
      "Out of 15k deliveries 365 deliveries are late\n",
      "Out of 15k deliveries 366 deliveries are late\n",
      "Out of 15k deliveries 367 deliveries are late\n",
      "Out of 15k deliveries 368 deliveries are late\n",
      "Out of 15k deliveries 369 deliveries are late\n",
      "Out of 15k deliveries 370 deliveries are late\n",
      "Out of 15k deliveries 371 deliveries are late\n",
      "Out of 15k deliveries 372 deliveries are late\n",
      "Out of 15k deliveries 373 deliveries are late\n",
      "Out of 15k deliveries 374 deliveries are late\n",
      "Out of 15k deliveries 375 deliveries are late\n",
      "Out of 15k deliveries 376 deliveries are late\n",
      "Out of 15k deliveries 377 deliveries are late\n",
      "Out of 15k deliveries 378 deliveries are late\n",
      "Out of 15k deliveries 379 deliveries are late\n",
      "Out of 15k deliveries 380 deliveries are late\n",
      "Out of 15k deliveries 381 deliveries are late\n",
      "Out of 15k deliveries 382 deliveries are late\n",
      "Out of 15k deliveries 383 deliveries are late\n",
      "Out of 15k deliveries 384 deliveries are late\n",
      "Out of 15k deliveries 385 deliveries are late\n",
      "Out of 15k deliveries 386 deliveries are late\n",
      "Out of 15k deliveries 387 deliveries are late\n",
      "Out of 15k deliveries 388 deliveries are late\n",
      "Out of 15k deliveries 389 deliveries are late\n",
      "Out of 15k deliveries 390 deliveries are late\n",
      "Out of 15k deliveries 391 deliveries are late\n",
      "Out of 15k deliveries 392 deliveries are late\n",
      "Out of 15k deliveries 393 deliveries are late\n",
      "Out of 15k deliveries 394 deliveries are late\n",
      "Out of 15k deliveries 395 deliveries are late\n",
      "Out of 15k deliveries 396 deliveries are late\n",
      "Out of 15k deliveries 397 deliveries are late\n",
      "Out of 15k deliveries 398 deliveries are late\n",
      "Out of 15k deliveries 399 deliveries are late\n",
      "Out of 15k deliveries 400 deliveries are late\n",
      "Out of 15k deliveries 401 deliveries are late\n",
      "Out of 15k deliveries 402 deliveries are late\n",
      "Out of 15k deliveries 403 deliveries are late\n",
      "Out of 15k deliveries 404 deliveries are late\n",
      "Out of 15k deliveries 405 deliveries are late\n",
      "Out of 15k deliveries 406 deliveries are late\n",
      "Out of 15k deliveries 407 deliveries are late\n",
      "Out of 15k deliveries 408 deliveries are late\n",
      "Out of 15k deliveries 409 deliveries are late\n",
      "Out of 15k deliveries 410 deliveries are late\n",
      "Out of 15k deliveries 411 deliveries are late\n",
      "Out of 15k deliveries 412 deliveries are late\n",
      "Out of 15k deliveries 413 deliveries are late\n",
      "Out of 15k deliveries 414 deliveries are late\n",
      "Out of 15k deliveries 415 deliveries are late\n",
      "Out of 15k deliveries 416 deliveries are late\n",
      "Out of 15k deliveries 417 deliveries are late\n",
      "Out of 15k deliveries 418 deliveries are late\n",
      "Out of 15k deliveries 419 deliveries are late\n",
      "Out of 15k deliveries 420 deliveries are late\n",
      "Out of 15k deliveries 421 deliveries are late\n",
      "Out of 15k deliveries 422 deliveries are late\n",
      "Out of 15k deliveries 423 deliveries are late\n",
      "Out of 15k deliveries 424 deliveries are late\n",
      "Out of 15k deliveries 425 deliveries are late\n",
      "Out of 15k deliveries 426 deliveries are late\n",
      "Out of 15k deliveries 427 deliveries are late\n",
      "Out of 15k deliveries 428 deliveries are late\n",
      "Out of 15k deliveries 429 deliveries are late\n",
      "Out of 15k deliveries 430 deliveries are late\n",
      "Out of 15k deliveries 431 deliveries are late\n",
      "Out of 15k deliveries 432 deliveries are late\n",
      "Out of 15k deliveries 433 deliveries are late\n",
      "Out of 15k deliveries 434 deliveries are late\n",
      "Out of 15k deliveries 435 deliveries are late\n",
      "Out of 15k deliveries 436 deliveries are late\n",
      "Out of 15k deliveries 437 deliveries are late\n",
      "Out of 15k deliveries 438 deliveries are late\n",
      "Out of 15k deliveries 439 deliveries are late\n",
      "Out of 15k deliveries 440 deliveries are late\n",
      "Out of 15k deliveries 441 deliveries are late\n",
      "Out of 15k deliveries 442 deliveries are late\n",
      "Out of 15k deliveries 443 deliveries are late\n",
      "Out of 15k deliveries 444 deliveries are late\n",
      "Out of 15k deliveries 445 deliveries are late\n",
      "Out of 15k deliveries 446 deliveries are late\n",
      "Out of 15k deliveries 447 deliveries are late\n",
      "Out of 15k deliveries 448 deliveries are late\n",
      "Out of 15k deliveries 449 deliveries are late\n",
      "Out of 15k deliveries 450 deliveries are late\n",
      "Out of 15k deliveries 451 deliveries are late\n",
      "Out of 15k deliveries 452 deliveries are late\n",
      "Out of 15k deliveries 453 deliveries are late\n",
      "Out of 15k deliveries 454 deliveries are late\n",
      "Out of 15k deliveries 455 deliveries are late\n",
      "Out of 15k deliveries 456 deliveries are late\n",
      "Out of 15k deliveries 457 deliveries are late\n",
      "Out of 15k deliveries 458 deliveries are late\n",
      "Out of 15k deliveries 459 deliveries are late\n",
      "Out of 15k deliveries 460 deliveries are late\n",
      "Out of 15k deliveries 461 deliveries are late\n",
      "Out of 15k deliveries 462 deliveries are late\n",
      "Out of 15k deliveries 463 deliveries are late\n",
      "Out of 15k deliveries 464 deliveries are late\n",
      "Out of 15k deliveries 465 deliveries are late\n",
      "Out of 15k deliveries 466 deliveries are late\n",
      "Out of 15k deliveries 467 deliveries are late\n",
      "Out of 15k deliveries 468 deliveries are late\n",
      "Out of 15k deliveries 469 deliveries are late\n",
      "Out of 15k deliveries 470 deliveries are late\n",
      "Out of 15k deliveries 471 deliveries are late\n",
      "Out of 15k deliveries 472 deliveries are late\n",
      "Out of 15k deliveries 473 deliveries are late\n",
      "Out of 15k deliveries 474 deliveries are late\n",
      "Out of 15k deliveries 475 deliveries are late\n",
      "Out of 15k deliveries 476 deliveries are late\n",
      "Out of 15k deliveries 477 deliveries are late\n",
      "Out of 15k deliveries 478 deliveries are late\n",
      "Out of 15k deliveries 479 deliveries are late\n",
      "Out of 15k deliveries 480 deliveries are late\n",
      "Out of 15k deliveries 481 deliveries are late\n",
      "Out of 15k deliveries 482 deliveries are late\n",
      "Out of 15k deliveries 483 deliveries are late\n",
      "Out of 15k deliveries 484 deliveries are late\n",
      "Out of 15k deliveries 485 deliveries are late\n",
      "Out of 15k deliveries 486 deliveries are late\n",
      "Out of 15k deliveries 487 deliveries are late\n",
      "Out of 15k deliveries 488 deliveries are late\n",
      "Out of 15k deliveries 489 deliveries are late\n",
      "Out of 15k deliveries 490 deliveries are late\n",
      "Out of 15k deliveries 491 deliveries are late\n",
      "Out of 15k deliveries 492 deliveries are late\n",
      "Out of 15k deliveries 493 deliveries are late\n",
      "Out of 15k deliveries 494 deliveries are late\n",
      "Out of 15k deliveries 495 deliveries are late\n",
      "Out of 15k deliveries 496 deliveries are late\n",
      "Out of 15k deliveries 497 deliveries are late\n",
      "Out of 15k deliveries 498 deliveries are late\n",
      "Out of 15k deliveries 499 deliveries are late\n",
      "Out of 15k deliveries 500 deliveries are late\n",
      "Out of 15k deliveries 501 deliveries are late\n",
      "Out of 15k deliveries 502 deliveries are late\n",
      "Out of 15k deliveries 503 deliveries are late\n",
      "Out of 15k deliveries 504 deliveries are late\n",
      "Out of 15k deliveries 505 deliveries are late\n",
      "Out of 15k deliveries 506 deliveries are late\n",
      "Out of 15k deliveries 507 deliveries are late\n",
      "Out of 15k deliveries 508 deliveries are late\n",
      "Out of 15k deliveries 509 deliveries are late\n",
      "Out of 15k deliveries 510 deliveries are late\n",
      "Out of 15k deliveries 511 deliveries are late\n",
      "Out of 15k deliveries 512 deliveries are late\n",
      "Out of 15k deliveries 513 deliveries are late\n",
      "Out of 15k deliveries 514 deliveries are late\n",
      "Out of 15k deliveries 515 deliveries are late\n",
      "Out of 15k deliveries 516 deliveries are late\n",
      "Out of 15k deliveries 517 deliveries are late\n",
      "Out of 15k deliveries 518 deliveries are late\n",
      "Out of 15k deliveries 519 deliveries are late\n",
      "Out of 15k deliveries 520 deliveries are late\n",
      "Out of 15k deliveries 521 deliveries are late\n",
      "Out of 15k deliveries 522 deliveries are late\n",
      "Out of 15k deliveries 523 deliveries are late\n",
      "Out of 15k deliveries 524 deliveries are late\n",
      "Out of 15k deliveries 525 deliveries are late\n",
      "Out of 15k deliveries 526 deliveries are late\n",
      "Out of 15k deliveries 527 deliveries are late\n",
      "Out of 15k deliveries 528 deliveries are late\n",
      "Out of 15k deliveries 529 deliveries are late\n",
      "Out of 15k deliveries 530 deliveries are late\n",
      "Out of 15k deliveries 531 deliveries are late\n",
      "Out of 15k deliveries 532 deliveries are late\n",
      "Out of 15k deliveries 533 deliveries are late\n",
      "Out of 15k deliveries 534 deliveries are late\n",
      "Out of 15k deliveries 535 deliveries are late\n",
      "Out of 15k deliveries 536 deliveries are late\n",
      "Out of 15k deliveries 537 deliveries are late\n",
      "Out of 15k deliveries 538 deliveries are late\n",
      "Out of 15k deliveries 539 deliveries are late\n",
      "Out of 15k deliveries 540 deliveries are late\n",
      "Out of 15k deliveries 541 deliveries are late\n",
      "Out of 15k deliveries 542 deliveries are late\n",
      "Out of 15k deliveries 543 deliveries are late\n",
      "Out of 15k deliveries 544 deliveries are late\n",
      "Out of 15k deliveries 545 deliveries are late\n",
      "Out of 15k deliveries 546 deliveries are late\n",
      "Out of 15k deliveries 547 deliveries are late\n",
      "Out of 15k deliveries 548 deliveries are late\n",
      "Out of 15k deliveries 549 deliveries are late\n",
      "Out of 15k deliveries 550 deliveries are late\n",
      "Out of 15k deliveries 551 deliveries are late\n",
      "Out of 15k deliveries 552 deliveries are late\n",
      "Out of 15k deliveries 553 deliveries are late\n",
      "Out of 15k deliveries 554 deliveries are late\n",
      "Out of 15k deliveries 555 deliveries are late\n",
      "Out of 15k deliveries 556 deliveries are late\n",
      "Out of 15k deliveries 557 deliveries are late\n",
      "Out of 15k deliveries 558 deliveries are late\n",
      "Out of 15k deliveries 559 deliveries are late\n",
      "Out of 15k deliveries 560 deliveries are late\n",
      "Out of 15k deliveries 561 deliveries are late\n",
      "Out of 15k deliveries 562 deliveries are late\n",
      "Out of 15k deliveries 563 deliveries are late\n",
      "Out of 15k deliveries 564 deliveries are late\n",
      "Out of 15k deliveries 565 deliveries are late\n",
      "Out of 15k deliveries 566 deliveries are late\n",
      "Out of 15k deliveries 567 deliveries are late\n",
      "Out of 15k deliveries 568 deliveries are late\n",
      "Out of 15k deliveries 569 deliveries are late\n",
      "Out of 15k deliveries 570 deliveries are late\n",
      "Out of 15k deliveries 571 deliveries are late\n",
      "Out of 15k deliveries 572 deliveries are late\n",
      "Out of 15k deliveries 573 deliveries are late\n",
      "Out of 15k deliveries 574 deliveries are late\n",
      "Out of 15k deliveries 575 deliveries are late\n",
      "Out of 15k deliveries 576 deliveries are late\n",
      "Out of 15k deliveries 577 deliveries are late\n",
      "Out of 15k deliveries 578 deliveries are late\n",
      "Out of 15k deliveries 579 deliveries are late\n",
      "Out of 15k deliveries 580 deliveries are late\n",
      "Out of 15k deliveries 581 deliveries are late\n",
      "Out of 15k deliveries 582 deliveries are late\n",
      "Out of 15k deliveries 583 deliveries are late\n",
      "Out of 15k deliveries 584 deliveries are late\n",
      "Out of 15k deliveries 585 deliveries are late\n",
      "Out of 15k deliveries 586 deliveries are late\n",
      "Out of 15k deliveries 587 deliveries are late\n",
      "Out of 15k deliveries 588 deliveries are late\n",
      "Out of 15k deliveries 589 deliveries are late\n",
      "Out of 15k deliveries 590 deliveries are late\n",
      "Out of 15k deliveries 591 deliveries are late\n",
      "Out of 15k deliveries 592 deliveries are late\n",
      "Out of 15k deliveries 593 deliveries are late\n",
      "Out of 15k deliveries 594 deliveries are late\n",
      "Out of 15k deliveries 595 deliveries are late\n",
      "Out of 15k deliveries 596 deliveries are late\n",
      "Out of 15k deliveries 597 deliveries are late\n",
      "Out of 15k deliveries 598 deliveries are late\n",
      "Out of 15k deliveries 599 deliveries are late\n",
      "Out of 15k deliveries 600 deliveries are late\n",
      "Out of 15k deliveries 601 deliveries are late\n",
      "Out of 15k deliveries 602 deliveries are late\n",
      "Out of 15k deliveries 603 deliveries are late\n",
      "Out of 15k deliveries 604 deliveries are late\n"
     ]
    }
   ],
   "source": [
    "count=0\n",
    "for i in data['time_taken_for_delivery']:\n",
    "    if i > 30.00:\n",
    "        count=count+1\n",
    "        print(f\"Out of 15k deliveries {count} deliveries are late\")\n",
    "    "
   ]
  },
  {
   "cell_type": "code",
   "execution_count": 53,
   "id": "4ba530f0",
   "metadata": {},
   "outputs": [
    {
     "data": {
      "text/plain": [
       "(15000, 10)"
      ]
     },
     "execution_count": 53,
     "metadata": {},
     "output_type": "execute_result"
    }
   ],
   "source": [
    "data.shape"
   ]
  },
  {
   "cell_type": "code",
   "execution_count": 55,
   "id": "e0214467",
   "metadata": {},
   "outputs": [
    {
     "data": {
      "text/plain": [
       "4.026666666666666"
      ]
     },
     "execution_count": 55,
     "metadata": {},
     "output_type": "execute_result"
    }
   ],
   "source": [
    "(604/data.shape[0])*100"
   ]
  },
  {
   "cell_type": "code",
   "execution_count": 56,
   "id": "6cb8cc4b",
   "metadata": {},
   "outputs": [
    {
     "data": {
      "text/html": [
       "<div>\n",
       "<style scoped>\n",
       "    .dataframe tbody tr th:only-of-type {\n",
       "        vertical-align: middle;\n",
       "    }\n",
       "\n",
       "    .dataframe tbody tr th {\n",
       "        vertical-align: top;\n",
       "    }\n",
       "\n",
       "    .dataframe thead th {\n",
       "        text-align: right;\n",
       "    }\n",
       "</style>\n",
       "<table border=\"1\" class=\"dataframe\">\n",
       "  <thead>\n",
       "    <tr style=\"text-align: right;\">\n",
       "      <th></th>\n",
       "      <th>order_id</th>\n",
       "      <th>time_taken_for_delivery</th>\n",
       "      <th>order_placed_date</th>\n",
       "      <th>order_placed_time</th>\n",
       "      <th>order_delivered_atte</th>\n",
       "      <th>order_delivered_date</th>\n",
       "      <th>order_delivered_time</th>\n",
       "      <th>time_period</th>\n",
       "      <th>order_placed_day</th>\n",
       "      <th>order_delivered_day</th>\n",
       "    </tr>\n",
       "  </thead>\n",
       "  <tbody>\n",
       "    <tr>\n",
       "      <th>4165</th>\n",
       "      <td>1527276</td>\n",
       "      <td>5867.434753</td>\n",
       "      <td>2023-03-08</td>\n",
       "      <td>09:46:43</td>\n",
       "      <td>2023-03-12</td>\n",
       "      <td>2023-03-12</td>\n",
       "      <td>11:34:09.085175</td>\n",
       "      <td>Morning</td>\n",
       "      <td>Wednesday</td>\n",
       "      <td>Sunday</td>\n",
       "    </tr>\n",
       "    <tr>\n",
       "      <th>5499</th>\n",
       "      <td>1528610</td>\n",
       "      <td>7299.831375</td>\n",
       "      <td>2023-03-10</td>\n",
       "      <td>17:06:22</td>\n",
       "      <td>2023-03-15</td>\n",
       "      <td>2023-03-15</td>\n",
       "      <td>18:46:11.882496</td>\n",
       "      <td>Evening</td>\n",
       "      <td>Friday</td>\n",
       "      <td>Wednesday</td>\n",
       "    </tr>\n",
       "    <tr>\n",
       "      <th>10007</th>\n",
       "      <td>1533118</td>\n",
       "      <td>2883.124250</td>\n",
       "      <td>2023-03-19</td>\n",
       "      <td>00:56:34</td>\n",
       "      <td>2023-03-21</td>\n",
       "      <td>2023-03-21</td>\n",
       "      <td>00:59:41.454974</td>\n",
       "      <td>night</td>\n",
       "      <td>Sunday</td>\n",
       "      <td>Tuesday</td>\n",
       "    </tr>\n",
       "    <tr>\n",
       "      <th>10225</th>\n",
       "      <td>1533336</td>\n",
       "      <td>4485.891210</td>\n",
       "      <td>2023-03-19</td>\n",
       "      <td>11:07:32</td>\n",
       "      <td>2023-03-22</td>\n",
       "      <td>2023-03-22</td>\n",
       "      <td>13:53:25.472592</td>\n",
       "      <td>Morning</td>\n",
       "      <td>Sunday</td>\n",
       "      <td>Wednesday</td>\n",
       "    </tr>\n",
       "    <tr>\n",
       "      <th>14155</th>\n",
       "      <td>1537266</td>\n",
       "      <td>3888.444088</td>\n",
       "      <td>2023-03-26</td>\n",
       "      <td>09:54:24</td>\n",
       "      <td>2023-03-29</td>\n",
       "      <td>2023-03-29</td>\n",
       "      <td>02:42:50.645252</td>\n",
       "      <td>Morning</td>\n",
       "      <td>Sunday</td>\n",
       "      <td>Wednesday</td>\n",
       "    </tr>\n",
       "  </tbody>\n",
       "</table>\n",
       "</div>"
      ],
      "text/plain": [
       "       order_id  time_taken_for_delivery order_placed_date order_placed_time  \\\n",
       "4165    1527276              5867.434753        2023-03-08          09:46:43   \n",
       "5499    1528610              7299.831375        2023-03-10          17:06:22   \n",
       "10007   1533118              2883.124250        2023-03-19          00:56:34   \n",
       "10225   1533336              4485.891210        2023-03-19          11:07:32   \n",
       "14155   1537266              3888.444088        2023-03-26          09:54:24   \n",
       "\n",
       "      order_delivered_atte order_delivered_date order_delivered_time  \\\n",
       "4165            2023-03-12           2023-03-12      11:34:09.085175   \n",
       "5499            2023-03-15           2023-03-15      18:46:11.882496   \n",
       "10007           2023-03-21           2023-03-21      00:59:41.454974   \n",
       "10225           2023-03-22           2023-03-22      13:53:25.472592   \n",
       "14155           2023-03-29           2023-03-29      02:42:50.645252   \n",
       "\n",
       "      time_period order_placed_day order_delivered_day  \n",
       "4165      Morning        Wednesday              Sunday  \n",
       "5499      Evening           Friday           Wednesday  \n",
       "10007       night           Sunday             Tuesday  \n",
       "10225     Morning           Sunday           Wednesday  \n",
       "14155     Morning           Sunday           Wednesday  "
      ]
     },
     "execution_count": 56,
     "metadata": {},
     "output_type": "execute_result"
    }
   ],
   "source": [
    "pd.set_option(\"display.max.rows\", None)\n",
    "data[data['time_taken_for_delivery']>1440]\n"
   ]
  },
  {
   "cell_type": "markdown",
   "id": "e25e0775",
   "metadata": {},
   "source": [
    "#### Report\n",
    "* Fastest order delivered in 15mins (lowest time taken for one delivery)\n",
    "* Highest time taken for one delivery is 7299mins (might be chance this order is placed through IRCTC service and the delivery is missied after next station avalible dominos restaurant they delivered the order)\n",
    "* Average time for one delivery is 20.49mins\n",
    "* 95% of the deliveries are delivered in time which is good for u kanav sir\n",
    "* 4.02% deliveries are late which is less compare to on time delivered percentage\n",
    "* 5 deliveries took more than 1day time to delivered."
   ]
  },
  {
   "cell_type": "markdown",
   "id": "3bf6db94",
   "metadata": {},
   "source": [
    "#### Final report:\n",
    "\n",
    "* Most orders (5002) are placed at morning time between 4am - 12pm.\n",
    "* Except tuesday all others day has apporox equal number of order placed.\n",
    "* Avg time taken for the one delivery is 20.49 mins.\n",
    "* 95% of the order are delivered in time which is good news.\n",
    "* 5 deliveries took more than 1day time to delivered.\n",
    "\n",
    "#### Conclusion:\n",
    "\n",
    "* We can put more delivery boys in morning and afternoon as the no. of orders are more.\n",
    "* We can give some discount on Tuesday to increase the no.of order.\n",
    "* atlast your shop is running all good kanav sir give us pizza party."
   ]
  }
 ],
 "metadata": {
  "kernelspec": {
   "display_name": "Python 3 (ipykernel)",
   "language": "python",
   "name": "python3"
  },
  "language_info": {
   "codemirror_mode": {
    "name": "ipython",
    "version": 3
   },
   "file_extension": ".py",
   "mimetype": "text/x-python",
   "name": "python",
   "nbconvert_exporter": "python",
   "pygments_lexer": "ipython3",
   "version": "3.9.13"
  }
 },
 "nbformat": 4,
 "nbformat_minor": 5
}
